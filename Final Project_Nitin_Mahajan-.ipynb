{
 "cells": [
  {
   "cell_type": "markdown",
   "metadata": {},
   "source": [
    "## DSC530 Final Project\n",
    "\n",
    "Nitin Mahajan"
   ]
  },
  {
   "cell_type": "markdown",
   "metadata": {},
   "source": [
    "### Data Set \n",
    "For the final project **[used car database](https://www.kaggle.com/piumiu/used-cars-database-50000-data-points)** dataset has been used and is obtained from kaggle. "
   ]
  },
  {
   "cell_type": "code",
   "execution_count": 46,
   "metadata": {
    "ExecuteTime": {
     "end_time": "2021-08-13T21:02:25.088378Z",
     "start_time": "2021-08-13T21:02:25.080875Z"
    }
   },
   "outputs": [],
   "source": [
    "# importing required libraries\n",
    "import os\n",
    "import subprocess\n",
    "import stat\n",
    "import numpy as np\n",
    "import pandas as pd\n",
    "import seaborn as sns\n",
    "import matplotlib.pyplot as plt\n",
    "import thinkstats2\n",
    "import thinkplot\n",
    "from datetime import datetime\n",
    "from scipy.stats import pearsonr\n",
    "from sklearn.model_selection import train_test_split\n",
    "from sklearn.linear_model import LinearRegression\n",
    "sns.set(style=\"white\")\n",
    "from pandas_profiling import ProfileReport\n",
    "\n",
    "# ensuring graphs are displayed within same notebook, rather than new window\n",
    "%matplotlib inline"
   ]
  },
  {
   "cell_type": "code",
   "execution_count": 47,
   "metadata": {
    "ExecuteTime": {
     "end_time": "2021-08-13T21:02:25.895637Z",
     "start_time": "2021-08-13T21:02:25.893312Z"
    }
   },
   "outputs": [],
   "source": [
    "import pandas_profiling"
   ]
  },
  {
   "cell_type": "markdown",
   "metadata": {},
   "source": [
    "### Importing Data"
   ]
  },
  {
   "cell_type": "code",
   "execution_count": 48,
   "metadata": {
    "ExecuteTime": {
     "end_time": "2021-08-13T21:02:27.430082Z",
     "start_time": "2021-08-13T21:02:27.149492Z"
    }
   },
   "outputs": [],
   "source": [
    "# Get absolute path till the raw data file\n",
    "abs_path = os.getcwd()\n",
    "data_path = abs_path + \"/RawData1/autos.csv\"\n",
    "import pandas as pd\n",
    "# reading csv into raw dataframe\n",
    "autos= pd.read_csv(data_path,encoding=\"latin-1\")"
   ]
  },
  {
   "cell_type": "code",
   "execution_count": 49,
   "metadata": {
    "ExecuteTime": {
     "end_time": "2021-08-13T21:02:28.158579Z",
     "start_time": "2021-08-13T21:02:28.154802Z"
    }
   },
   "outputs": [
    {
     "data": {
      "text/plain": [
       "(50000, 20)"
      ]
     },
     "execution_count": 49,
     "metadata": {},
     "output_type": "execute_result"
    }
   ],
   "source": [
    "autos.shape"
   ]
  },
  {
   "cell_type": "code",
   "execution_count": 50,
   "metadata": {
    "ExecuteTime": {
     "end_time": "2021-08-13T21:02:28.878457Z",
     "start_time": "2021-08-13T21:02:28.839489Z"
    }
   },
   "outputs": [
    {
     "name": "stdout",
     "output_type": "stream",
     "text": [
      "<class 'pandas.core.frame.DataFrame'>\n",
      "RangeIndex: 50000 entries, 0 to 49999\n",
      "Data columns (total 20 columns):\n",
      "dateCrawled            50000 non-null object\n",
      "name                   50000 non-null object\n",
      "seller                 50000 non-null object\n",
      "offerType              50000 non-null object\n",
      "price                  50000 non-null object\n",
      "abtest                 50000 non-null object\n",
      "vehicleType            44905 non-null object\n",
      "yearOfRegistration     50000 non-null int64\n",
      "gearbox                47320 non-null object\n",
      "powerPS                50000 non-null int64\n",
      "model                  47242 non-null object\n",
      "odometer               50000 non-null object\n",
      "monthOfRegistration    50000 non-null int64\n",
      "fuelType               45518 non-null object\n",
      "brand                  50000 non-null object\n",
      "notRepairedDamage      40171 non-null object\n",
      "dateCreated            50000 non-null object\n",
      "nrOfPictures           50000 non-null int64\n",
      "postalCode             50000 non-null int64\n",
      "lastSeen               50000 non-null object\n",
      "dtypes: int64(5), object(15)\n",
      "memory usage: 7.6+ MB\n"
     ]
    }
   ],
   "source": [
    "autos.info()"
   ]
  },
  {
   "cell_type": "markdown",
   "metadata": {
    "ExecuteTime": {
     "end_time": "2021-08-11T19:24:19.841338Z",
     "start_time": "2021-08-11T19:24:19.836640Z"
    }
   },
   "source": [
    "`Brief observation:`\n",
    "\n",
    "- The dataset consists of 20 columns\n",
    "- 15 columns contain data of object type, 5 columns are int.64 type. \n",
    "- 5 columns have missing values, but none of them contain more than 20% missing values\n",
    "- camelcase in column names is needed to be changed to snakecase"
   ]
  },
  {
   "cell_type": "code",
   "execution_count": 51,
   "metadata": {
    "ExecuteTime": {
     "end_time": "2021-08-13T21:02:29.427098Z",
     "start_time": "2021-08-13T21:02:29.423752Z"
    }
   },
   "outputs": [],
   "source": [
    "autos.columns = ['date_crawled', 'name', 'seller', 'offer_type', 'price', \n",
    "                 'ab_test','vehicle_type', 'registration_year', 'gearbox', \n",
    "                 'power_ps', 'model','odometer', 'registration_month', \n",
    "                 'fuel_type', 'brand','unrepaired_damage', 'ad_created', \n",
    "                 'num_photos', 'postal_code','last_seen']"
   ]
  },
  {
   "cell_type": "code",
   "execution_count": 52,
   "metadata": {
    "ExecuteTime": {
     "end_time": "2021-08-13T21:02:32.025861Z",
     "start_time": "2021-08-13T21:02:31.819065Z"
    }
   },
   "outputs": [
    {
     "data": {
      "text/html": [
       "<div>\n",
       "<style scoped>\n",
       "    .dataframe tbody tr th:only-of-type {\n",
       "        vertical-align: middle;\n",
       "    }\n",
       "\n",
       "    .dataframe tbody tr th {\n",
       "        vertical-align: top;\n",
       "    }\n",
       "\n",
       "    .dataframe thead th {\n",
       "        text-align: right;\n",
       "    }\n",
       "</style>\n",
       "<table border=\"1\" class=\"dataframe\">\n",
       "  <thead>\n",
       "    <tr style=\"text-align: right;\">\n",
       "      <th></th>\n",
       "      <th>date_crawled</th>\n",
       "      <th>name</th>\n",
       "      <th>seller</th>\n",
       "      <th>offer_type</th>\n",
       "      <th>price</th>\n",
       "      <th>ab_test</th>\n",
       "      <th>vehicle_type</th>\n",
       "      <th>registration_year</th>\n",
       "      <th>gearbox</th>\n",
       "      <th>power_ps</th>\n",
       "      <th>model</th>\n",
       "      <th>odometer</th>\n",
       "      <th>registration_month</th>\n",
       "      <th>fuel_type</th>\n",
       "      <th>brand</th>\n",
       "      <th>unrepaired_damage</th>\n",
       "      <th>ad_created</th>\n",
       "      <th>num_photos</th>\n",
       "      <th>postal_code</th>\n",
       "      <th>last_seen</th>\n",
       "    </tr>\n",
       "  </thead>\n",
       "  <tbody>\n",
       "    <tr>\n",
       "      <td>count</td>\n",
       "      <td>50000</td>\n",
       "      <td>50000</td>\n",
       "      <td>50000</td>\n",
       "      <td>50000</td>\n",
       "      <td>50000</td>\n",
       "      <td>50000</td>\n",
       "      <td>44905</td>\n",
       "      <td>50000.000000</td>\n",
       "      <td>47320</td>\n",
       "      <td>50000.000000</td>\n",
       "      <td>47242</td>\n",
       "      <td>50000</td>\n",
       "      <td>50000.000000</td>\n",
       "      <td>45518</td>\n",
       "      <td>50000</td>\n",
       "      <td>40171</td>\n",
       "      <td>50000</td>\n",
       "      <td>50000.0</td>\n",
       "      <td>50000.000000</td>\n",
       "      <td>50000</td>\n",
       "    </tr>\n",
       "    <tr>\n",
       "      <td>unique</td>\n",
       "      <td>48213</td>\n",
       "      <td>38754</td>\n",
       "      <td>2</td>\n",
       "      <td>2</td>\n",
       "      <td>2357</td>\n",
       "      <td>2</td>\n",
       "      <td>8</td>\n",
       "      <td>NaN</td>\n",
       "      <td>2</td>\n",
       "      <td>NaN</td>\n",
       "      <td>245</td>\n",
       "      <td>13</td>\n",
       "      <td>NaN</td>\n",
       "      <td>7</td>\n",
       "      <td>40</td>\n",
       "      <td>2</td>\n",
       "      <td>76</td>\n",
       "      <td>NaN</td>\n",
       "      <td>NaN</td>\n",
       "      <td>39481</td>\n",
       "    </tr>\n",
       "    <tr>\n",
       "      <td>top</td>\n",
       "      <td>2016-03-08 10:40:35</td>\n",
       "      <td>Ford_Fiesta</td>\n",
       "      <td>privat</td>\n",
       "      <td>Angebot</td>\n",
       "      <td>$0</td>\n",
       "      <td>test</td>\n",
       "      <td>limousine</td>\n",
       "      <td>NaN</td>\n",
       "      <td>manuell</td>\n",
       "      <td>NaN</td>\n",
       "      <td>golf</td>\n",
       "      <td>150,000km</td>\n",
       "      <td>NaN</td>\n",
       "      <td>benzin</td>\n",
       "      <td>volkswagen</td>\n",
       "      <td>nein</td>\n",
       "      <td>2016-04-03 00:00:00</td>\n",
       "      <td>NaN</td>\n",
       "      <td>NaN</td>\n",
       "      <td>2016-04-07 06:17:27</td>\n",
       "    </tr>\n",
       "    <tr>\n",
       "      <td>freq</td>\n",
       "      <td>3</td>\n",
       "      <td>78</td>\n",
       "      <td>49999</td>\n",
       "      <td>49999</td>\n",
       "      <td>1421</td>\n",
       "      <td>25756</td>\n",
       "      <td>12859</td>\n",
       "      <td>NaN</td>\n",
       "      <td>36993</td>\n",
       "      <td>NaN</td>\n",
       "      <td>4024</td>\n",
       "      <td>32424</td>\n",
       "      <td>NaN</td>\n",
       "      <td>30107</td>\n",
       "      <td>10687</td>\n",
       "      <td>35232</td>\n",
       "      <td>1946</td>\n",
       "      <td>NaN</td>\n",
       "      <td>NaN</td>\n",
       "      <td>8</td>\n",
       "    </tr>\n",
       "    <tr>\n",
       "      <td>mean</td>\n",
       "      <td>NaN</td>\n",
       "      <td>NaN</td>\n",
       "      <td>NaN</td>\n",
       "      <td>NaN</td>\n",
       "      <td>NaN</td>\n",
       "      <td>NaN</td>\n",
       "      <td>NaN</td>\n",
       "      <td>2005.073280</td>\n",
       "      <td>NaN</td>\n",
       "      <td>116.355920</td>\n",
       "      <td>NaN</td>\n",
       "      <td>NaN</td>\n",
       "      <td>5.723360</td>\n",
       "      <td>NaN</td>\n",
       "      <td>NaN</td>\n",
       "      <td>NaN</td>\n",
       "      <td>NaN</td>\n",
       "      <td>0.0</td>\n",
       "      <td>50813.627300</td>\n",
       "      <td>NaN</td>\n",
       "    </tr>\n",
       "    <tr>\n",
       "      <td>std</td>\n",
       "      <td>NaN</td>\n",
       "      <td>NaN</td>\n",
       "      <td>NaN</td>\n",
       "      <td>NaN</td>\n",
       "      <td>NaN</td>\n",
       "      <td>NaN</td>\n",
       "      <td>NaN</td>\n",
       "      <td>105.712813</td>\n",
       "      <td>NaN</td>\n",
       "      <td>209.216627</td>\n",
       "      <td>NaN</td>\n",
       "      <td>NaN</td>\n",
       "      <td>3.711984</td>\n",
       "      <td>NaN</td>\n",
       "      <td>NaN</td>\n",
       "      <td>NaN</td>\n",
       "      <td>NaN</td>\n",
       "      <td>0.0</td>\n",
       "      <td>25779.747957</td>\n",
       "      <td>NaN</td>\n",
       "    </tr>\n",
       "    <tr>\n",
       "      <td>min</td>\n",
       "      <td>NaN</td>\n",
       "      <td>NaN</td>\n",
       "      <td>NaN</td>\n",
       "      <td>NaN</td>\n",
       "      <td>NaN</td>\n",
       "      <td>NaN</td>\n",
       "      <td>NaN</td>\n",
       "      <td>1000.000000</td>\n",
       "      <td>NaN</td>\n",
       "      <td>0.000000</td>\n",
       "      <td>NaN</td>\n",
       "      <td>NaN</td>\n",
       "      <td>0.000000</td>\n",
       "      <td>NaN</td>\n",
       "      <td>NaN</td>\n",
       "      <td>NaN</td>\n",
       "      <td>NaN</td>\n",
       "      <td>0.0</td>\n",
       "      <td>1067.000000</td>\n",
       "      <td>NaN</td>\n",
       "    </tr>\n",
       "    <tr>\n",
       "      <td>25%</td>\n",
       "      <td>NaN</td>\n",
       "      <td>NaN</td>\n",
       "      <td>NaN</td>\n",
       "      <td>NaN</td>\n",
       "      <td>NaN</td>\n",
       "      <td>NaN</td>\n",
       "      <td>NaN</td>\n",
       "      <td>1999.000000</td>\n",
       "      <td>NaN</td>\n",
       "      <td>70.000000</td>\n",
       "      <td>NaN</td>\n",
       "      <td>NaN</td>\n",
       "      <td>3.000000</td>\n",
       "      <td>NaN</td>\n",
       "      <td>NaN</td>\n",
       "      <td>NaN</td>\n",
       "      <td>NaN</td>\n",
       "      <td>0.0</td>\n",
       "      <td>30451.000000</td>\n",
       "      <td>NaN</td>\n",
       "    </tr>\n",
       "    <tr>\n",
       "      <td>50%</td>\n",
       "      <td>NaN</td>\n",
       "      <td>NaN</td>\n",
       "      <td>NaN</td>\n",
       "      <td>NaN</td>\n",
       "      <td>NaN</td>\n",
       "      <td>NaN</td>\n",
       "      <td>NaN</td>\n",
       "      <td>2003.000000</td>\n",
       "      <td>NaN</td>\n",
       "      <td>105.000000</td>\n",
       "      <td>NaN</td>\n",
       "      <td>NaN</td>\n",
       "      <td>6.000000</td>\n",
       "      <td>NaN</td>\n",
       "      <td>NaN</td>\n",
       "      <td>NaN</td>\n",
       "      <td>NaN</td>\n",
       "      <td>0.0</td>\n",
       "      <td>49577.000000</td>\n",
       "      <td>NaN</td>\n",
       "    </tr>\n",
       "    <tr>\n",
       "      <td>75%</td>\n",
       "      <td>NaN</td>\n",
       "      <td>NaN</td>\n",
       "      <td>NaN</td>\n",
       "      <td>NaN</td>\n",
       "      <td>NaN</td>\n",
       "      <td>NaN</td>\n",
       "      <td>NaN</td>\n",
       "      <td>2008.000000</td>\n",
       "      <td>NaN</td>\n",
       "      <td>150.000000</td>\n",
       "      <td>NaN</td>\n",
       "      <td>NaN</td>\n",
       "      <td>9.000000</td>\n",
       "      <td>NaN</td>\n",
       "      <td>NaN</td>\n",
       "      <td>NaN</td>\n",
       "      <td>NaN</td>\n",
       "      <td>0.0</td>\n",
       "      <td>71540.000000</td>\n",
       "      <td>NaN</td>\n",
       "    </tr>\n",
       "    <tr>\n",
       "      <td>max</td>\n",
       "      <td>NaN</td>\n",
       "      <td>NaN</td>\n",
       "      <td>NaN</td>\n",
       "      <td>NaN</td>\n",
       "      <td>NaN</td>\n",
       "      <td>NaN</td>\n",
       "      <td>NaN</td>\n",
       "      <td>9999.000000</td>\n",
       "      <td>NaN</td>\n",
       "      <td>17700.000000</td>\n",
       "      <td>NaN</td>\n",
       "      <td>NaN</td>\n",
       "      <td>12.000000</td>\n",
       "      <td>NaN</td>\n",
       "      <td>NaN</td>\n",
       "      <td>NaN</td>\n",
       "      <td>NaN</td>\n",
       "      <td>0.0</td>\n",
       "      <td>99998.000000</td>\n",
       "      <td>NaN</td>\n",
       "    </tr>\n",
       "  </tbody>\n",
       "</table>\n",
       "</div>"
      ],
      "text/plain": [
       "               date_crawled         name  seller offer_type  price ab_test  \\\n",
       "count                 50000        50000   50000      50000  50000   50000   \n",
       "unique                48213        38754       2          2   2357       2   \n",
       "top     2016-03-08 10:40:35  Ford_Fiesta  privat    Angebot     $0    test   \n",
       "freq                      3           78   49999      49999   1421   25756   \n",
       "mean                    NaN          NaN     NaN        NaN    NaN     NaN   \n",
       "std                     NaN          NaN     NaN        NaN    NaN     NaN   \n",
       "min                     NaN          NaN     NaN        NaN    NaN     NaN   \n",
       "25%                     NaN          NaN     NaN        NaN    NaN     NaN   \n",
       "50%                     NaN          NaN     NaN        NaN    NaN     NaN   \n",
       "75%                     NaN          NaN     NaN        NaN    NaN     NaN   \n",
       "max                     NaN          NaN     NaN        NaN    NaN     NaN   \n",
       "\n",
       "       vehicle_type  registration_year  gearbox      power_ps  model  \\\n",
       "count         44905       50000.000000    47320  50000.000000  47242   \n",
       "unique            8                NaN        2           NaN    245   \n",
       "top       limousine                NaN  manuell           NaN   golf   \n",
       "freq          12859                NaN    36993           NaN   4024   \n",
       "mean            NaN        2005.073280      NaN    116.355920    NaN   \n",
       "std             NaN         105.712813      NaN    209.216627    NaN   \n",
       "min             NaN        1000.000000      NaN      0.000000    NaN   \n",
       "25%             NaN        1999.000000      NaN     70.000000    NaN   \n",
       "50%             NaN        2003.000000      NaN    105.000000    NaN   \n",
       "75%             NaN        2008.000000      NaN    150.000000    NaN   \n",
       "max             NaN        9999.000000      NaN  17700.000000    NaN   \n",
       "\n",
       "         odometer  registration_month fuel_type       brand unrepaired_damage  \\\n",
       "count       50000        50000.000000     45518       50000             40171   \n",
       "unique         13                 NaN         7          40                 2   \n",
       "top     150,000km                 NaN    benzin  volkswagen              nein   \n",
       "freq        32424                 NaN     30107       10687             35232   \n",
       "mean          NaN            5.723360       NaN         NaN               NaN   \n",
       "std           NaN            3.711984       NaN         NaN               NaN   \n",
       "min           NaN            0.000000       NaN         NaN               NaN   \n",
       "25%           NaN            3.000000       NaN         NaN               NaN   \n",
       "50%           NaN            6.000000       NaN         NaN               NaN   \n",
       "75%           NaN            9.000000       NaN         NaN               NaN   \n",
       "max           NaN           12.000000       NaN         NaN               NaN   \n",
       "\n",
       "                 ad_created  num_photos   postal_code            last_seen  \n",
       "count                 50000     50000.0  50000.000000                50000  \n",
       "unique                   76         NaN           NaN                39481  \n",
       "top     2016-04-03 00:00:00         NaN           NaN  2016-04-07 06:17:27  \n",
       "freq                   1946         NaN           NaN                    8  \n",
       "mean                    NaN         0.0  50813.627300                  NaN  \n",
       "std                     NaN         0.0  25779.747957                  NaN  \n",
       "min                     NaN         0.0   1067.000000                  NaN  \n",
       "25%                     NaN         0.0  30451.000000                  NaN  \n",
       "50%                     NaN         0.0  49577.000000                  NaN  \n",
       "75%                     NaN         0.0  71540.000000                  NaN  \n",
       "max                     NaN         0.0  99998.000000                  NaN  "
      ]
     },
     "execution_count": 52,
     "metadata": {},
     "output_type": "execute_result"
    }
   ],
   "source": [
    "autos.describe(include='all')"
   ]
  },
  {
   "cell_type": "markdown",
   "metadata": {},
   "source": [
    "`OBSERVATION`\n",
    "\n",
    "- Columns with mostly one values are: seller, offer_type, num_photos. These columns are candidates to be dropped, because no useful information can be extracted.\n",
    "- Numeric data stored as text: price, odometer.\n",
    "- Column ad_created needs further investigation, so far it seems that it consists of just one value\n",
    "- Let's drop three columns: seller, offer_type, num_photos"
   ]
  },
  {
   "cell_type": "code",
   "execution_count": 53,
   "metadata": {
    "ExecuteTime": {
     "end_time": "2021-08-13T21:02:33.394791Z",
     "start_time": "2021-08-13T21:02:33.381466Z"
    }
   },
   "outputs": [],
   "source": [
    "autos = autos.drop(columns=['seller','offer_type','num_photos'])"
   ]
  },
  {
   "cell_type": "markdown",
   "metadata": {},
   "source": [
    "Next, I am going to convert the data in these two columns to numeric type and rename column odometer"
   ]
  },
  {
   "cell_type": "code",
   "execution_count": 54,
   "metadata": {
    "ExecuteTime": {
     "end_time": "2021-08-13T21:02:34.060516Z",
     "start_time": "2021-08-13T21:02:33.991117Z"
    }
   },
   "outputs": [],
   "source": [
    "#converting column 'price' from object to numeric type\n",
    "autos['price'] = (autos['price']\n",
    "                 .str.replace('$','')\n",
    "                 .str.replace(',','')\n",
    "                  .astype(float)\n",
    "                 )"
   ]
  },
  {
   "cell_type": "code",
   "execution_count": 55,
   "metadata": {
    "ExecuteTime": {
     "end_time": "2021-08-13T21:02:34.359865Z",
     "start_time": "2021-08-13T21:02:34.280118Z"
    }
   },
   "outputs": [],
   "source": [
    "#converting column 'odometer' from object to numeric type\n",
    "autos['odometer'] = (autos['odometer']\n",
    "                    .str.replace(',','')\n",
    "                    .str.replace('km','')\n",
    "                    .astype(float)\n",
    "                    )"
   ]
  },
  {
   "cell_type": "code",
   "execution_count": 56,
   "metadata": {
    "ExecuteTime": {
     "end_time": "2021-08-13T21:02:34.624669Z",
     "start_time": "2021-08-13T21:02:34.585937Z"
    }
   },
   "outputs": [],
   "source": [
    "#renaming the column 'odometer' to 'odometer_km'\n",
    "autos = autos.rename({'odometer':'odometer_km'}, axis=1)"
   ]
  },
  {
   "cell_type": "code",
   "execution_count": 57,
   "metadata": {
    "ExecuteTime": {
     "end_time": "2021-08-13T21:02:34.943106Z",
     "start_time": "2021-08-13T21:02:34.927638Z"
    }
   },
   "outputs": [
    {
     "name": "stdout",
     "output_type": "stream",
     "text": [
      "(2357,)\n",
      "count    5.000000e+04\n",
      "mean     9.840044e+03\n",
      "std      4.811044e+05\n",
      "min      0.000000e+00\n",
      "25%      1.100000e+03\n",
      "50%      2.950000e+03\n",
      "75%      7.200000e+03\n",
      "max      1.000000e+08\n",
      "Name: price, dtype: float64\n",
      "0.0       1421\n",
      "500.0      781\n",
      "1500.0     734\n",
      "2500.0     643\n",
      "1200.0     639\n",
      "1000.0     639\n",
      "600.0      531\n",
      "800.0      498\n",
      "3500.0     498\n",
      "2000.0     460\n",
      "999.0      434\n",
      "750.0      433\n",
      "900.0      420\n",
      "650.0      419\n",
      "850.0      410\n",
      "700.0      395\n",
      "4500.0     394\n",
      "300.0      384\n",
      "2200.0     382\n",
      "950.0      379\n",
      "Name: price, dtype: int64\n"
     ]
    }
   ],
   "source": [
    "print(autos['price'].unique().shape)\n",
    "print(autos['price'].describe())\n",
    "print(autos['price'].value_counts().head(20))"
   ]
  },
  {
   "cell_type": "markdown",
   "metadata": {},
   "source": [
    "`Observation`\n",
    "\n",
    "- There are 2357 unique values in column price.\n",
    "- Around 3% of prices equal 0, these rows might be considered for removing from the dataset.\n",
    "- The minimum price is 0 and maximum price is one hundred million dollars, they look too small and too large respectively.\n",
    "- Let's explore the lowest and the highest prices further on."
   ]
  },
  {
   "cell_type": "code",
   "execution_count": 58,
   "metadata": {
    "ExecuteTime": {
     "end_time": "2021-08-13T21:02:35.445244Z",
     "start_time": "2021-08-13T21:02:35.435783Z"
    }
   },
   "outputs": [
    {
     "data": {
      "text/plain": [
       "99999999.0    1\n",
       "27322222.0    1\n",
       "12345678.0    3\n",
       "11111111.0    2\n",
       "10000000.0    1\n",
       "3890000.0     1\n",
       "1300000.0     1\n",
       "1234566.0     1\n",
       "999999.0      2\n",
       "999990.0      1\n",
       "350000.0      1\n",
       "345000.0      1\n",
       "299000.0      1\n",
       "295000.0      1\n",
       "265000.0      1\n",
       "259000.0      1\n",
       "250000.0      1\n",
       "220000.0      1\n",
       "198000.0      1\n",
       "197000.0      1\n",
       "Name: price, dtype: int64"
      ]
     },
     "execution_count": 58,
     "metadata": {},
     "output_type": "execute_result"
    }
   ],
   "source": [
    "autos['price'].value_counts().sort_index(ascending=False).head(20)"
   ]
  },
  {
   "cell_type": "code",
   "execution_count": 59,
   "metadata": {
    "ExecuteTime": {
     "end_time": "2021-08-13T21:02:35.823123Z",
     "start_time": "2021-08-13T21:02:35.814475Z"
    }
   },
   "outputs": [
    {
     "data": {
      "text/plain": [
       "0.0     1421\n",
       "1.0      156\n",
       "2.0        3\n",
       "3.0        1\n",
       "5.0        2\n",
       "8.0        1\n",
       "9.0        1\n",
       "10.0       7\n",
       "11.0       2\n",
       "12.0       3\n",
       "13.0       2\n",
       "14.0       1\n",
       "15.0       2\n",
       "17.0       3\n",
       "18.0       1\n",
       "20.0       4\n",
       "25.0       5\n",
       "29.0       1\n",
       "30.0       7\n",
       "35.0       1\n",
       "Name: price, dtype: int64"
      ]
     },
     "execution_count": 59,
     "metadata": {},
     "output_type": "execute_result"
    }
   ],
   "source": [
    "autos['price'].value_counts().sort_index(ascending=True).head(20)"
   ]
  },
  {
   "cell_type": "code",
   "execution_count": 60,
   "metadata": {
    "ExecuteTime": {
     "end_time": "2021-08-13T21:02:36.641717Z",
     "start_time": "2021-08-13T21:02:36.624603Z"
    }
   },
   "outputs": [
    {
     "data": {
      "text/plain": [
       "count     48565.000000\n",
       "mean       5888.935591\n",
       "std        9059.854754\n",
       "min           1.000000\n",
       "25%        1200.000000\n",
       "50%        3000.000000\n",
       "75%        7490.000000\n",
       "max      350000.000000\n",
       "Name: price, dtype: float64"
      ]
     },
     "execution_count": 60,
     "metadata": {},
     "output_type": "execute_result"
    }
   ],
   "source": [
    "autos = autos[autos['price'].between(1,350000)]\n",
    "autos['price'].describe()"
   ]
  },
  {
   "cell_type": "code",
   "execution_count": 61,
   "metadata": {
    "ExecuteTime": {
     "end_time": "2021-08-13T21:02:37.069040Z",
     "start_time": "2021-08-13T21:02:37.062366Z"
    }
   },
   "outputs": [
    {
     "data": {
      "text/plain": [
       "150000.0    31414\n",
       "125000.0     5057\n",
       "100000.0     2115\n",
       "90000.0      1734\n",
       "80000.0      1415\n",
       "70000.0      1217\n",
       "60000.0      1155\n",
       "50000.0      1012\n",
       "40000.0       815\n",
       "30000.0       780\n",
       "20000.0       762\n",
       "10000.0       253\n",
       "5000.0        836\n",
       "Name: odometer_km, dtype: int64"
      ]
     },
     "execution_count": 61,
     "metadata": {},
     "output_type": "execute_result"
    }
   ],
   "source": [
    "autos['odometer_km'].value_counts().sort_index(ascending=False)"
   ]
  },
  {
   "cell_type": "code",
   "execution_count": 62,
   "metadata": {
    "ExecuteTime": {
     "end_time": "2021-08-13T21:02:37.429391Z",
     "start_time": "2021-08-13T21:02:37.415566Z"
    }
   },
   "outputs": [
    {
     "name": "stdout",
     "output_type": "stream",
     "text": [
      "<class 'pandas.core.frame.DataFrame'>\n",
      "Int64Index: 48565 entries, 0 to 49999\n",
      "Data columns (total 5 columns):\n",
      "date_crawled          48565 non-null object\n",
      "last_seen             48565 non-null object\n",
      "ad_created            48565 non-null object\n",
      "registration_month    48565 non-null int64\n",
      "registration_year     48565 non-null int64\n",
      "dtypes: int64(2), object(3)\n",
      "memory usage: 2.2+ MB\n"
     ]
    }
   ],
   "source": [
    "autos[['date_crawled','last_seen',\n",
    "      'ad_created','registration_month',\n",
    "      'registration_year']].info()"
   ]
  },
  {
   "cell_type": "code",
   "execution_count": 63,
   "metadata": {
    "ExecuteTime": {
     "end_time": "2021-08-13T21:02:37.738306Z",
     "start_time": "2021-08-13T21:02:37.728007Z"
    }
   },
   "outputs": [
    {
     "data": {
      "text/html": [
       "<div>\n",
       "<style scoped>\n",
       "    .dataframe tbody tr th:only-of-type {\n",
       "        vertical-align: middle;\n",
       "    }\n",
       "\n",
       "    .dataframe tbody tr th {\n",
       "        vertical-align: top;\n",
       "    }\n",
       "\n",
       "    .dataframe thead th {\n",
       "        text-align: right;\n",
       "    }\n",
       "</style>\n",
       "<table border=\"1\" class=\"dataframe\">\n",
       "  <thead>\n",
       "    <tr style=\"text-align: right;\">\n",
       "      <th></th>\n",
       "      <th>date_crawled</th>\n",
       "      <th>ad_created</th>\n",
       "      <th>last_seen</th>\n",
       "    </tr>\n",
       "  </thead>\n",
       "  <tbody>\n",
       "    <tr>\n",
       "      <td>0</td>\n",
       "      <td>2016-03-26 17:47:46</td>\n",
       "      <td>2016-03-26 00:00:00</td>\n",
       "      <td>2016-04-06 06:45:54</td>\n",
       "    </tr>\n",
       "    <tr>\n",
       "      <td>1</td>\n",
       "      <td>2016-04-04 13:38:56</td>\n",
       "      <td>2016-04-04 00:00:00</td>\n",
       "      <td>2016-04-06 14:45:08</td>\n",
       "    </tr>\n",
       "    <tr>\n",
       "      <td>2</td>\n",
       "      <td>2016-03-26 18:57:24</td>\n",
       "      <td>2016-03-26 00:00:00</td>\n",
       "      <td>2016-04-06 20:15:37</td>\n",
       "    </tr>\n",
       "    <tr>\n",
       "      <td>3</td>\n",
       "      <td>2016-03-12 16:58:10</td>\n",
       "      <td>2016-03-12 00:00:00</td>\n",
       "      <td>2016-03-15 03:16:28</td>\n",
       "    </tr>\n",
       "    <tr>\n",
       "      <td>4</td>\n",
       "      <td>2016-04-01 14:38:50</td>\n",
       "      <td>2016-04-01 00:00:00</td>\n",
       "      <td>2016-04-01 14:38:50</td>\n",
       "    </tr>\n",
       "  </tbody>\n",
       "</table>\n",
       "</div>"
      ],
      "text/plain": [
       "          date_crawled           ad_created            last_seen\n",
       "0  2016-03-26 17:47:46  2016-03-26 00:00:00  2016-04-06 06:45:54\n",
       "1  2016-04-04 13:38:56  2016-04-04 00:00:00  2016-04-06 14:45:08\n",
       "2  2016-03-26 18:57:24  2016-03-26 00:00:00  2016-04-06 20:15:37\n",
       "3  2016-03-12 16:58:10  2016-03-12 00:00:00  2016-03-15 03:16:28\n",
       "4  2016-04-01 14:38:50  2016-04-01 00:00:00  2016-04-01 14:38:50"
      ]
     },
     "execution_count": 63,
     "metadata": {},
     "output_type": "execute_result"
    }
   ],
   "source": [
    "autos[['date_crawled','ad_created','last_seen']][0:5]"
   ]
  },
  {
   "cell_type": "code",
   "execution_count": 64,
   "metadata": {
    "ExecuteTime": {
     "end_time": "2021-08-13T21:02:38.502482Z",
     "start_time": "2021-08-13T21:02:38.472220Z"
    }
   },
   "outputs": [
    {
     "data": {
      "text/plain": [
       "2016-03-05    0.025327\n",
       "2016-03-06    0.014043\n",
       "2016-03-07    0.036014\n",
       "2016-03-08    0.033296\n",
       "2016-03-09    0.033090\n",
       "2016-03-10    0.032184\n",
       "2016-03-11    0.032575\n",
       "2016-03-12    0.036920\n",
       "2016-03-13    0.015670\n",
       "2016-03-14    0.036549\n",
       "2016-03-15    0.034284\n",
       "2016-03-16    0.029610\n",
       "2016-03-17    0.031628\n",
       "2016-03-18    0.012911\n",
       "2016-03-19    0.034778\n",
       "2016-03-20    0.037887\n",
       "2016-03-21    0.037373\n",
       "2016-03-22    0.032987\n",
       "2016-03-23    0.032225\n",
       "2016-03-24    0.029342\n",
       "2016-03-25    0.031607\n",
       "2016-03-26    0.032204\n",
       "2016-03-27    0.031092\n",
       "2016-03-28    0.034860\n",
       "2016-03-29    0.034099\n",
       "2016-03-30    0.033687\n",
       "2016-03-31    0.031834\n",
       "2016-04-01    0.033687\n",
       "2016-04-02    0.035478\n",
       "2016-04-03    0.038608\n",
       "2016-04-04    0.036487\n",
       "2016-04-05    0.013096\n",
       "2016-04-06    0.003171\n",
       "2016-04-07    0.001400\n",
       "Name: date_crawled, dtype: float64"
      ]
     },
     "execution_count": 64,
     "metadata": {},
     "output_type": "execute_result"
    }
   ],
   "source": [
    "(autos['date_crawled']\n",
    " .str[:10]\n",
    " .value_counts(normalize=True,dropna=False)\n",
    " .sort_index()\n",
    ")"
   ]
  },
  {
   "cell_type": "code",
   "execution_count": 65,
   "metadata": {
    "ExecuteTime": {
     "end_time": "2021-08-13T21:02:38.873740Z",
     "start_time": "2021-08-13T21:02:38.848763Z"
    }
   },
   "outputs": [
    {
     "data": {
      "text/plain": [
       "2016-04-07    0.001400\n",
       "2016-04-06    0.003171\n",
       "2016-03-18    0.012911\n",
       "2016-04-05    0.013096\n",
       "2016-03-06    0.014043\n",
       "2016-03-13    0.015670\n",
       "2016-03-05    0.025327\n",
       "2016-03-24    0.029342\n",
       "2016-03-16    0.029610\n",
       "2016-03-27    0.031092\n",
       "2016-03-25    0.031607\n",
       "2016-03-17    0.031628\n",
       "2016-03-31    0.031834\n",
       "2016-03-10    0.032184\n",
       "2016-03-26    0.032204\n",
       "2016-03-23    0.032225\n",
       "2016-03-11    0.032575\n",
       "2016-03-22    0.032987\n",
       "2016-03-09    0.033090\n",
       "2016-03-08    0.033296\n",
       "2016-04-01    0.033687\n",
       "2016-03-30    0.033687\n",
       "2016-03-29    0.034099\n",
       "2016-03-15    0.034284\n",
       "2016-03-19    0.034778\n",
       "2016-03-28    0.034860\n",
       "2016-04-02    0.035478\n",
       "2016-03-07    0.036014\n",
       "2016-04-04    0.036487\n",
       "2016-03-14    0.036549\n",
       "2016-03-12    0.036920\n",
       "2016-03-21    0.037373\n",
       "2016-03-20    0.037887\n",
       "2016-04-03    0.038608\n",
       "Name: date_crawled, dtype: float64"
      ]
     },
     "execution_count": 65,
     "metadata": {},
     "output_type": "execute_result"
    }
   ],
   "source": [
    "(autos['date_crawled']\n",
    " .str[:10]\n",
    " .value_counts(normalize=True,dropna=False)\n",
    " .sort_values()\n",
    ")"
   ]
  },
  {
   "cell_type": "code",
   "execution_count": 66,
   "metadata": {
    "ExecuteTime": {
     "end_time": "2021-08-13T21:02:39.223387Z",
     "start_time": "2021-08-13T21:02:39.194985Z"
    }
   },
   "outputs": [
    {
     "data": {
      "text/plain": [
       "2016-03-05    0.001071\n",
       "2016-03-06    0.004324\n",
       "2016-03-07    0.005395\n",
       "2016-03-08    0.007413\n",
       "2016-03-09    0.009595\n",
       "2016-03-10    0.010666\n",
       "2016-03-11    0.012375\n",
       "2016-03-12    0.023783\n",
       "2016-03-13    0.008895\n",
       "2016-03-14    0.012602\n",
       "2016-03-15    0.015876\n",
       "2016-03-16    0.016452\n",
       "2016-03-17    0.028086\n",
       "2016-03-18    0.007351\n",
       "2016-03-19    0.015834\n",
       "2016-03-20    0.020653\n",
       "2016-03-21    0.020632\n",
       "2016-03-22    0.021373\n",
       "2016-03-23    0.018532\n",
       "2016-03-24    0.019767\n",
       "2016-03-25    0.019211\n",
       "2016-03-26    0.016802\n",
       "2016-03-27    0.015649\n",
       "2016-03-28    0.020859\n",
       "2016-03-29    0.022341\n",
       "2016-03-30    0.024771\n",
       "2016-03-31    0.023783\n",
       "2016-04-01    0.022794\n",
       "2016-04-02    0.024915\n",
       "2016-04-03    0.025203\n",
       "2016-04-04    0.024483\n",
       "2016-04-05    0.124761\n",
       "2016-04-06    0.221806\n",
       "2016-04-07    0.131947\n",
       "Name: last_seen, dtype: float64"
      ]
     },
     "execution_count": 66,
     "metadata": {},
     "output_type": "execute_result"
    }
   ],
   "source": [
    "(autos['last_seen']\n",
    " .str[:10]\n",
    " .value_counts(normalize=True,dropna=False)\n",
    " .sort_index()\n",
    ")"
   ]
  },
  {
   "cell_type": "code",
   "execution_count": 67,
   "metadata": {
    "ExecuteTime": {
     "end_time": "2021-08-13T21:02:39.879249Z",
     "start_time": "2021-08-13T21:02:39.831773Z"
    }
   },
   "outputs": [
    {
     "name": "stdout",
     "output_type": "stream",
     "text": [
      "(76,)\n"
     ]
    },
    {
     "data": {
      "text/plain": [
       "2015-06-11    0.000021\n",
       "2015-08-10    0.000021\n",
       "2015-09-09    0.000021\n",
       "2015-11-10    0.000021\n",
       "2015-12-05    0.000021\n",
       "                ...   \n",
       "2016-04-03    0.038855\n",
       "2016-04-04    0.036858\n",
       "2016-04-05    0.011819\n",
       "2016-04-06    0.003253\n",
       "2016-04-07    0.001256\n",
       "Name: ad_created, Length: 76, dtype: float64"
      ]
     },
     "execution_count": 67,
     "metadata": {},
     "output_type": "execute_result"
    }
   ],
   "source": [
    "print(autos[\"ad_created\"].str[:10].unique().shape)\n",
    "(autos[\"ad_created\"]\n",
    "        .str[:10]\n",
    "        .value_counts(normalize=True, dropna=False)\n",
    "        .sort_index()\n",
    "        )"
   ]
  },
  {
   "cell_type": "code",
   "execution_count": 68,
   "metadata": {
    "ExecuteTime": {
     "end_time": "2021-08-13T21:02:40.740438Z",
     "start_time": "2021-08-13T21:02:40.731671Z"
    }
   },
   "outputs": [
    {
     "data": {
      "text/plain": [
       "count    48565.000000\n",
       "mean      2004.755421\n",
       "std         88.643887\n",
       "min       1000.000000\n",
       "25%       1999.000000\n",
       "50%       2004.000000\n",
       "75%       2008.000000\n",
       "max       9999.000000\n",
       "Name: registration_year, dtype: float64"
      ]
     },
     "execution_count": 68,
     "metadata": {},
     "output_type": "execute_result"
    }
   ],
   "source": [
    "autos['registration_year'].describe()"
   ]
  },
  {
   "cell_type": "code",
   "execution_count": 69,
   "metadata": {
    "ExecuteTime": {
     "end_time": "2021-08-13T21:02:41.222937Z",
     "start_time": "2021-08-13T21:02:41.216528Z"
    }
   },
   "outputs": [
    {
     "data": {
      "text/plain": [
       "0.038793369710697"
      ]
     },
     "execution_count": 69,
     "metadata": {},
     "output_type": "execute_result"
    }
   ],
   "source": [
    "(~autos['registration_year'].between(1900,2016)).sum()/autos.shape[0]"
   ]
  },
  {
   "cell_type": "code",
   "execution_count": 70,
   "metadata": {
    "ExecuteTime": {
     "end_time": "2021-08-13T21:02:41.598365Z",
     "start_time": "2021-08-13T21:02:41.582308Z"
    }
   },
   "outputs": [
    {
     "data": {
      "text/plain": [
       "2000    0.067608\n",
       "2005    0.062895\n",
       "1999    0.062060\n",
       "2004    0.057904\n",
       "2003    0.057818\n",
       "2006    0.057197\n",
       "2001    0.056468\n",
       "2002    0.053255\n",
       "1998    0.050620\n",
       "2007    0.048778\n",
       "Name: registration_year, dtype: float64"
      ]
     },
     "execution_count": 70,
     "metadata": {},
     "output_type": "execute_result"
    }
   ],
   "source": [
    "autos = autos[autos['registration_year'].between(1900,2016)]\n",
    "autos['registration_year'].value_counts(normalize=True).head(10)"
   ]
  },
  {
   "cell_type": "code",
   "execution_count": 71,
   "metadata": {
    "ExecuteTime": {
     "end_time": "2021-08-13T21:02:41.926001Z",
     "start_time": "2021-08-13T21:02:41.916007Z"
    }
   },
   "outputs": [
    {
     "data": {
      "text/plain": [
       "volkswagen        0.211264\n",
       "bmw               0.110045\n",
       "opel              0.107581\n",
       "mercedes_benz     0.096463\n",
       "audi              0.086566\n",
       "ford              0.069900\n",
       "renault           0.047150\n",
       "peugeot           0.029841\n",
       "fiat              0.025642\n",
       "seat              0.018273\n",
       "skoda             0.016409\n",
       "nissan            0.015274\n",
       "mazda             0.015188\n",
       "smart             0.014160\n",
       "citroen           0.014010\n",
       "toyota            0.012703\n",
       "hyundai           0.010025\n",
       "sonstige_autos    0.009811\n",
       "volvo             0.009147\n",
       "mini              0.008762\n",
       "mitsubishi        0.008226\n",
       "honda             0.007840\n",
       "kia               0.007069\n",
       "alfa_romeo        0.006641\n",
       "porsche           0.006127\n",
       "suzuki            0.005934\n",
       "chevrolet         0.005698\n",
       "chrysler          0.003513\n",
       "dacia             0.002635\n",
       "daihatsu          0.002506\n",
       "jeep              0.002271\n",
       "subaru            0.002142\n",
       "land_rover        0.002099\n",
       "saab              0.001649\n",
       "jaguar            0.001564\n",
       "daewoo            0.001500\n",
       "trabant           0.001392\n",
       "rover             0.001328\n",
       "lancia            0.001071\n",
       "lada              0.000578\n",
       "Name: brand, dtype: float64"
      ]
     },
     "execution_count": 71,
     "metadata": {},
     "output_type": "execute_result"
    }
   ],
   "source": [
    "autos['brand'].value_counts(normalize=True)"
   ]
  },
  {
   "cell_type": "code",
   "execution_count": 72,
   "metadata": {
    "ExecuteTime": {
     "end_time": "2021-08-13T21:02:43.061580Z",
     "start_time": "2021-08-13T21:02:43.051545Z"
    }
   },
   "outputs": [
    {
     "name": "stdout",
     "output_type": "stream",
     "text": [
      "Index(['volkswagen', 'bmw', 'opel', 'mercedes_benz', 'audi', 'ford'], dtype='object')\n"
     ]
    }
   ],
   "source": [
    "brand_counts = autos['brand'].value_counts(normalize=True)\n",
    "common_brands = brand_counts[brand_counts > .05].index\n",
    "print(common_brands)"
   ]
  },
  {
   "cell_type": "code",
   "execution_count": 73,
   "metadata": {
    "ExecuteTime": {
     "end_time": "2021-08-13T21:02:43.754374Z",
     "start_time": "2021-08-13T21:02:43.718497Z"
    }
   },
   "outputs": [
    {
     "data": {
      "text/plain": [
       "{'volkswagen': 5402,\n",
       " 'bmw': 8332,\n",
       " 'opel': 2975,\n",
       " 'mercedes_benz': 8628,\n",
       " 'audi': 9336,\n",
       " 'ford': 3749}"
      ]
     },
     "execution_count": 73,
     "metadata": {},
     "output_type": "execute_result"
    }
   ],
   "source": [
    "brand_mean_prices = {}\n",
    "\n",
    "for b in common_brands:\n",
    "    b_only = autos[autos['brand'] == b]\n",
    "    mean_price = b_only['price'].mean()\n",
    "    brand_mean_prices[b] = int(mean_price)\n",
    "\n",
    "brand_mean_prices"
   ]
  },
  {
   "cell_type": "code",
   "execution_count": 74,
   "metadata": {
    "ExecuteTime": {
     "end_time": "2021-08-13T21:02:44.108529Z",
     "start_time": "2021-08-13T21:02:44.071612Z"
    }
   },
   "outputs": [],
   "source": [
    "brand_mean_mileage = {}\n",
    "for b in common_brands:\n",
    "    b_only = autos[autos['brand'] == b]\n",
    "    mean_mil = b_only['odometer_km'].mean()\n",
    "    brand_mean_mileage[b] = int(mean_mil)\n",
    "    \n",
    "\n",
    "mean_mileage = pd.Series(brand_mean_mileage).sort_values(ascending=False)\n",
    "mean_price = pd.Series(brand_mean_prices).sort_values(ascending=False)"
   ]
  },
  {
   "cell_type": "code",
   "execution_count": 75,
   "metadata": {
    "ExecuteTime": {
     "end_time": "2021-08-13T21:02:44.427822Z",
     "start_time": "2021-08-13T21:02:44.421469Z"
    }
   },
   "outputs": [
    {
     "data": {
      "text/html": [
       "<div>\n",
       "<style scoped>\n",
       "    .dataframe tbody tr th:only-of-type {\n",
       "        vertical-align: middle;\n",
       "    }\n",
       "\n",
       "    .dataframe tbody tr th {\n",
       "        vertical-align: top;\n",
       "    }\n",
       "\n",
       "    .dataframe thead th {\n",
       "        text-align: right;\n",
       "    }\n",
       "</style>\n",
       "<table border=\"1\" class=\"dataframe\">\n",
       "  <thead>\n",
       "    <tr style=\"text-align: right;\">\n",
       "      <th></th>\n",
       "      <th>mean_mileage</th>\n",
       "    </tr>\n",
       "  </thead>\n",
       "  <tbody>\n",
       "    <tr>\n",
       "      <td>bmw</td>\n",
       "      <td>132572</td>\n",
       "    </tr>\n",
       "    <tr>\n",
       "      <td>mercedes_benz</td>\n",
       "      <td>130788</td>\n",
       "    </tr>\n",
       "    <tr>\n",
       "      <td>opel</td>\n",
       "      <td>129310</td>\n",
       "    </tr>\n",
       "    <tr>\n",
       "      <td>audi</td>\n",
       "      <td>129157</td>\n",
       "    </tr>\n",
       "    <tr>\n",
       "      <td>volkswagen</td>\n",
       "      <td>128707</td>\n",
       "    </tr>\n",
       "    <tr>\n",
       "      <td>ford</td>\n",
       "      <td>124266</td>\n",
       "    </tr>\n",
       "  </tbody>\n",
       "</table>\n",
       "</div>"
      ],
      "text/plain": [
       "               mean_mileage\n",
       "bmw                  132572\n",
       "mercedes_benz        130788\n",
       "opel                 129310\n",
       "audi                 129157\n",
       "volkswagen           128707\n",
       "ford                 124266"
      ]
     },
     "execution_count": 75,
     "metadata": {},
     "output_type": "execute_result"
    }
   ],
   "source": [
    "brand_agg = pd.DataFrame(mean_mileage,columns=['mean_mileage'])\n",
    "brand_agg"
   ]
  },
  {
   "cell_type": "code",
   "execution_count": 76,
   "metadata": {
    "ExecuteTime": {
     "end_time": "2021-08-13T21:02:45.331735Z",
     "start_time": "2021-08-13T21:02:45.325830Z"
    }
   },
   "outputs": [
    {
     "data": {
      "text/html": [
       "<div>\n",
       "<style scoped>\n",
       "    .dataframe tbody tr th:only-of-type {\n",
       "        vertical-align: middle;\n",
       "    }\n",
       "\n",
       "    .dataframe tbody tr th {\n",
       "        vertical-align: top;\n",
       "    }\n",
       "\n",
       "    .dataframe thead th {\n",
       "        text-align: right;\n",
       "    }\n",
       "</style>\n",
       "<table border=\"1\" class=\"dataframe\">\n",
       "  <thead>\n",
       "    <tr style=\"text-align: right;\">\n",
       "      <th></th>\n",
       "      <th>mean_mileage</th>\n",
       "      <th>mean_price</th>\n",
       "    </tr>\n",
       "  </thead>\n",
       "  <tbody>\n",
       "    <tr>\n",
       "      <td>bmw</td>\n",
       "      <td>132572</td>\n",
       "      <td>8332</td>\n",
       "    </tr>\n",
       "    <tr>\n",
       "      <td>mercedes_benz</td>\n",
       "      <td>130788</td>\n",
       "      <td>8628</td>\n",
       "    </tr>\n",
       "    <tr>\n",
       "      <td>opel</td>\n",
       "      <td>129310</td>\n",
       "      <td>2975</td>\n",
       "    </tr>\n",
       "    <tr>\n",
       "      <td>audi</td>\n",
       "      <td>129157</td>\n",
       "      <td>9336</td>\n",
       "    </tr>\n",
       "    <tr>\n",
       "      <td>volkswagen</td>\n",
       "      <td>128707</td>\n",
       "      <td>5402</td>\n",
       "    </tr>\n",
       "    <tr>\n",
       "      <td>ford</td>\n",
       "      <td>124266</td>\n",
       "      <td>3749</td>\n",
       "    </tr>\n",
       "  </tbody>\n",
       "</table>\n",
       "</div>"
      ],
      "text/plain": [
       "               mean_mileage  mean_price\n",
       "bmw                  132572        8332\n",
       "mercedes_benz        130788        8628\n",
       "opel                 129310        2975\n",
       "audi                 129157        9336\n",
       "volkswagen           128707        5402\n",
       "ford                 124266        3749"
      ]
     },
     "execution_count": 76,
     "metadata": {},
     "output_type": "execute_result"
    }
   ],
   "source": [
    "brand_agg['mean_price'] = mean_price\n",
    "brand_agg"
   ]
  },
  {
   "cell_type": "code",
   "execution_count": 77,
   "metadata": {
    "ExecuteTime": {
     "end_time": "2021-08-13T21:02:45.976935Z",
     "start_time": "2021-08-13T21:02:45.970447Z"
    }
   },
   "outputs": [
    {
     "data": {
      "text/plain": [
       "array(['bus', 'limousine', 'kleinwagen', 'kombi', nan, 'coupe', 'suv',\n",
       "       'cabrio', 'andere'], dtype=object)"
      ]
     },
     "execution_count": 77,
     "metadata": {},
     "output_type": "execute_result"
    }
   ],
   "source": [
    "autos['vehicle_type'].unique()"
   ]
  },
  {
   "cell_type": "code",
   "execution_count": 78,
   "metadata": {
    "ExecuteTime": {
     "end_time": "2021-08-13T21:02:46.342917Z",
     "start_time": "2021-08-13T21:02:46.336589Z"
    }
   },
   "outputs": [
    {
     "data": {
      "text/plain": [
       "array(['manuell', 'automatik', nan], dtype=object)"
      ]
     },
     "execution_count": 78,
     "metadata": {},
     "output_type": "execute_result"
    }
   ],
   "source": [
    "autos['gearbox'].unique()"
   ]
  },
  {
   "cell_type": "code",
   "execution_count": 79,
   "metadata": {
    "ExecuteTime": {
     "end_time": "2021-08-13T21:02:46.679876Z",
     "start_time": "2021-08-13T21:02:46.673159Z"
    }
   },
   "outputs": [
    {
     "data": {
      "text/plain": [
       "array(['nein', nan, 'ja'], dtype=object)"
      ]
     },
     "execution_count": 79,
     "metadata": {},
     "output_type": "execute_result"
    }
   ],
   "source": [
    "autos['unrepaired_damage'].unique()"
   ]
  },
  {
   "cell_type": "code",
   "execution_count": 80,
   "metadata": {
    "ExecuteTime": {
     "end_time": "2021-08-13T21:02:47.064309Z",
     "start_time": "2021-08-13T21:02:47.030662Z"
    }
   },
   "outputs": [],
   "source": [
    "# German to English\n",
    "words_translated = {\n",
    "    'bus':'bus',\n",
    "    'limousine':'limousine',\n",
    "    'kleinwagen':'supermini',\n",
    "    'kombi':'station_wagon',\n",
    "    'coupe':'coupe',\n",
    "    'suv':'suv',\n",
    "    'cabrio':'cabrio',\n",
    "    'andere' :'other',\n",
    "    'manuell':'manual',\n",
    "    'automatik':'automatic',\n",
    "    'lpg':'lpg',\n",
    "    'benzin':'petrol',\n",
    "    'diesel':'diesel',\n",
    "    'cng':'cng',\n",
    "    'hybrid':'hybrid',\n",
    "    'elektro':'electro',\n",
    "    'nein':'no',\n",
    "    'ja':'yes'\n",
    "}\n",
    "for each in ['vehicle_type','gearbox','fuel_type','unrepaired_damage']:\n",
    "    autos[each] = autos[each].map(words_translated)"
   ]
  },
  {
   "cell_type": "code",
   "execution_count": 81,
   "metadata": {
    "ExecuteTime": {
     "end_time": "2021-08-13T21:02:47.394490Z",
     "start_time": "2021-08-13T21:02:47.382502Z"
    }
   },
   "outputs": [
    {
     "name": "stdout",
     "output_type": "stream",
     "text": [
      "['bus' 'limousine' 'supermini' 'station_wagon' nan 'coupe' 'suv' 'cabrio'\n",
      " 'other']\n",
      "['manual' 'automatic' nan]\n",
      "['lpg' 'petrol' 'diesel' nan 'cng' 'hybrid' 'electro' 'other']\n",
      "['no' nan 'yes']\n"
     ]
    }
   ],
   "source": [
    "print(autos['vehicle_type'].unique())\n",
    "print(autos['gearbox'].unique())\n",
    "print(autos['fuel_type'].unique())\n",
    "print(autos['unrepaired_damage'].unique())"
   ]
  },
  {
   "cell_type": "code",
   "execution_count": 82,
   "metadata": {
    "ExecuteTime": {
     "end_time": "2021-08-13T21:02:47.891443Z",
     "start_time": "2021-08-13T21:02:47.736033Z"
    }
   },
   "outputs": [],
   "source": [
    "date_cols = ['date_crawled','ad_created','last_seen']\n",
    "\n",
    "for each in date_cols:\n",
    "    autos[each] = (autos[each]\n",
    "                  .str[:10]\n",
    "                  .str.replace('-','')\n",
    "                  .astype(int)\n",
    "                  )"
   ]
  },
  {
   "cell_type": "code",
   "execution_count": 83,
   "metadata": {
    "ExecuteTime": {
     "end_time": "2021-08-13T21:02:48.069250Z",
     "start_time": "2021-08-13T21:02:48.041493Z"
    }
   },
   "outputs": [
    {
     "name": "stdout",
     "output_type": "stream",
     "text": [
      "<class 'pandas.core.frame.DataFrame'>\n",
      "Int64Index: 46681 entries, 0 to 49999\n",
      "Data columns (total 17 columns):\n",
      "date_crawled          46681 non-null int64\n",
      "name                  46681 non-null object\n",
      "price                 46681 non-null float64\n",
      "ab_test               46681 non-null object\n",
      "vehicle_type          43977 non-null object\n",
      "registration_year     46681 non-null int64\n",
      "gearbox               44571 non-null object\n",
      "power_ps              46681 non-null int64\n",
      "model                 44488 non-null object\n",
      "odometer_km           46681 non-null float64\n",
      "registration_month    46681 non-null int64\n",
      "fuel_type             43363 non-null object\n",
      "brand                 46681 non-null object\n",
      "unrepaired_damage     38374 non-null object\n",
      "ad_created            46681 non-null int64\n",
      "postal_code           46681 non-null int64\n",
      "last_seen             46681 non-null int64\n",
      "dtypes: float64(2), int64(7), object(8)\n",
      "memory usage: 6.4+ MB\n"
     ]
    }
   ],
   "source": [
    "autos.info()"
   ]
  },
  {
   "cell_type": "code",
   "execution_count": 84,
   "metadata": {
    "ExecuteTime": {
     "end_time": "2021-08-13T21:02:48.590249Z",
     "start_time": "2021-08-13T21:02:48.562273Z"
    }
   },
   "outputs": [],
   "source": [
    "# Handling missing values\n",
    "autos = autos.dropna()"
   ]
  },
  {
   "cell_type": "code",
   "execution_count": 85,
   "metadata": {
    "ExecuteTime": {
     "end_time": "2021-08-13T21:02:48.904604Z",
     "start_time": "2021-08-13T21:02:48.900722Z"
    }
   },
   "outputs": [
    {
     "data": {
      "text/plain": [
       "(34584, 17)"
      ]
     },
     "execution_count": 85,
     "metadata": {},
     "output_type": "execute_result"
    }
   ],
   "source": [
    "#Final Data Set\n",
    "autos.shape"
   ]
  },
  {
   "cell_type": "code",
   "execution_count": 86,
   "metadata": {
    "ExecuteTime": {
     "end_time": "2021-08-13T21:02:56.052971Z",
     "start_time": "2021-08-13T21:02:55.638938Z"
    }
   },
   "outputs": [
    {
     "data": {
      "image/png": "[encoded data removed]",
      "text/plain": [
       "<Figure size 864x720 with 2 Axes>"
      ]
     },
     "metadata": {
      "needs_background": "light"
     },
     "output_type": "display_data"
    }
   ],
   "source": [
    "# Correlation Matrix\n",
    "fig, ax = plt.subplots(figsize=(12, 10))\n",
    "\n",
    "autos_corr = autos.corr()\n",
    "\n",
    "\n",
    "# mask\n",
    "mask = np.triu(np.ones_like(autos_corr, dtype=np.bool))\n",
    "\n",
    "\n",
    "# adjust mask and df\n",
    "mask = mask[1:, :-1]\n",
    "corr = autos_corr.iloc[1:,:-1].copy()\n",
    "# color map\n",
    "cmap = sns.diverging_palette(0, 230, 90, 60, as_cmap=True)\n",
    "# plot heatmap\n",
    "sns.heatmap(corr, mask=mask, annot=True, fmt=\".2f\", \n",
    "           linewidths=5, cmap=cmap, vmin=-1, vmax=1, \n",
    "           cbar_kws={\"shrink\": .8}, square=True)\n",
    "# ticks\n",
    "yticks = [i.upper() for i in corr.index]\n",
    "xticks = [i.upper() for i in corr.columns]\n",
    "plt.yticks(plt.yticks()[0], labels=yticks, rotation=0)\n",
    "plt.xticks(plt.xticks()[0], labels=xticks)\n",
    "# title\n",
    "title = 'CORRELATION MATRIX'\n",
    "plt.title(title, loc='left', fontsize=18)\n",
    "plt.show()\n",
    "\n"
   ]
  },
  {
   "cell_type": "markdown",
   "metadata": {},
   "source": [
    "### Histograms"
   ]
  },
  {
   "cell_type": "markdown",
   "metadata": {},
   "source": [
    "#### Price"
   ]
  },
  {
   "cell_type": "code",
   "execution_count": 88,
   "metadata": {
    "ExecuteTime": {
     "end_time": "2021-08-13T21:08:21.937583Z",
     "start_time": "2021-08-13T21:08:21.644665Z"
    }
   },
   "outputs": [
    {
     "data": {
      "text/plain": [
       "Text(0.5, 1.0, 'Price')"
      ]
     },
     "execution_count": 88,
     "metadata": {},
     "output_type": "execute_result"
    },
    {
     "data": {
      "image/png": "[encoded data removed]",
      "text/plain": [
       "<Figure size 432x288 with 1 Axes>"
      ]
     },
     "metadata": {
      "needs_background": "light"
     },
     "output_type": "display_data"
    }
   ],
   "source": [
    "plt.hist(autos.price, bins=10)\n",
    "plt.title(\"Price\")"
   ]
  },
  {
   "cell_type": "markdown",
   "metadata": {},
   "source": [
    "- Data is right skewed (positvely skewed)\n",
    "- A lot of records has price as zero and very few has price greater than 20,000, with 28,800 being the most"
   ]
  },
  {
   "cell_type": "markdown",
   "metadata": {},
   "source": [
    "#### Year of Registration"
   ]
  },
  {
   "cell_type": "code",
   "execution_count": 90,
   "metadata": {
    "ExecuteTime": {
     "end_time": "2021-08-13T21:08:32.460168Z",
     "start_time": "2021-08-13T21:08:32.215905Z"
    },
    "scrolled": true
   },
   "outputs": [
    {
     "data": {
      "text/plain": [
       "Text(0.5, 1.0, 'Year Of Registration')"
      ]
     },
     "execution_count": 90,
     "metadata": {},
     "output_type": "execute_result"
    },
    {
     "data": {
      "image/png": "[encoded data removed]",
      "text/plain": [
       "<Figure size 432x288 with 1 Axes>"
      ]
     },
     "metadata": {
      "needs_background": "light"
     },
     "output_type": "display_data"
    }
   ],
   "source": [
    "plt.hist(autos.registration_year, bins=10)\n",
    "plt.title(\"Year Of Registration\")"
   ]
  },
  {
   "cell_type": "markdown",
   "metadata": {},
   "source": [
    " Most of the listed cars are registered between 1980 and 2015."
   ]
  },
  {
   "cell_type": "markdown",
   "metadata": {},
   "source": [
    "#### registration_month"
   ]
  },
  {
   "cell_type": "code",
   "execution_count": 91,
   "metadata": {
    "ExecuteTime": {
     "end_time": "2021-08-13T21:08:40.788552Z",
     "start_time": "2021-08-13T21:08:40.514244Z"
    }
   },
   "outputs": [
    {
     "data": {
      "text/plain": [
       "Text(0.5, 1.0, 'Registration_month')"
      ]
     },
     "execution_count": 91,
     "metadata": {},
     "output_type": "execute_result"
    },
    {
     "data": {
      "image/png": "[encoded data removed]",
      "text/plain": [
       "<Figure size 432x288 with 1 Axes>"
      ]
     },
     "metadata": {
      "needs_background": "light"
     },
     "output_type": "display_data"
    }
   ],
   "source": [
    "plt.hist(autos.registration_month, bins=25)\n",
    "plt.title(\"Registration_month\")"
   ]
  },
  {
   "cell_type": "markdown",
   "metadata": {},
   "source": [
    "Most of the cars are between 10 to 20 years old"
   ]
  },
  {
   "cell_type": "markdown",
   "metadata": {},
   "source": [
    "#### Kilometer"
   ]
  },
  {
   "cell_type": "code",
   "execution_count": 92,
   "metadata": {
    "ExecuteTime": {
     "end_time": "2021-08-13T21:08:45.138686Z",
     "start_time": "2021-08-13T21:08:44.864721Z"
    }
   },
   "outputs": [
    {
     "data": {
      "text/plain": [
       "Text(0.5, 1.0, 'Kilometer')"
      ]
     },
     "execution_count": 92,
     "metadata": {},
     "output_type": "execute_result"
    },
    {
     "data": {
      "image/png": "[encoded data removed]",
      "text/plain": [
       "<Figure size 432x288 with 1 Axes>"
      ]
     },
     "metadata": {
      "needs_background": "light"
     },
     "output_type": "display_data"
    }
   ],
   "source": [
    "plt.hist(autos.odometer_km, bins=12)\n",
    "plt.title(\"Kilometer\")"
   ]
  },
  {
   "cell_type": "markdown",
   "metadata": {},
   "source": [
    "Since the data is of used cars, most of the cars have milleage acquired, most of the cars have mileage between 12000 to 15000 km"
   ]
  },
  {
   "cell_type": "code",
   "execution_count": 93,
   "metadata": {
    "ExecuteTime": {
     "end_time": "2021-08-13T21:08:47.773102Z",
     "start_time": "2021-08-13T21:08:47.407856Z"
    }
   },
   "outputs": [
    {
     "data": {
      "text/plain": [
       "Text(0.5, 1.0, 'The power of the car in PS')"
      ]
     },
     "execution_count": 93,
     "metadata": {},
     "output_type": "execute_result"
    },
    {
     "data": {
      "image/png": "[encoded data removed]",
      "text/plain": [
       "<Figure size 432x288 with 1 Axes>"
      ]
     },
     "metadata": {
      "needs_background": "light"
     },
     "output_type": "display_data"
    }
   ],
   "source": [
    "plt.hist(autos.power_ps , bins=50)\n",
    "plt.title(\"The power of the car in PS\")"
   ]
  },
  {
   "cell_type": "markdown",
   "metadata": {},
   "source": [
    "Most of the cars came online with in 10 days"
   ]
  },
  {
   "cell_type": "markdown",
   "metadata": {},
   "source": [
    "###  - Boxplot would be the best choice for outliers detection. "
   ]
  },
  {
   "cell_type": "markdown",
   "metadata": {
    "collapsed": true
   },
   "source": [
    "### Probability Mass Function (PMF)"
   ]
  },
  {
   "cell_type": "markdown",
   "metadata": {},
   "source": [
    "Dataset is divided into two parts based on the above and below the median `price' "
   ]
  },
  {
   "cell_type": "code",
   "execution_count": 94,
   "metadata": {
    "ExecuteTime": {
     "end_time": "2021-08-13T21:08:55.020023Z",
     "start_time": "2021-08-13T21:08:55.011220Z"
    }
   },
   "outputs": [],
   "source": [
    "medianprice = autos.price.median()\n",
    "\n",
    "df_highprice = autos.price[autos['price'] >= medianprice]\n",
    "df_lowprice = autos.price[autos['price'] < medianprice]\n",
    "\n",
    "df_lowprice = df_lowprice.astype(float)"
   ]
  },
  {
   "cell_type": "code",
   "execution_count": 124,
   "metadata": {
    "ExecuteTime": {
     "end_time": "2021-08-14T02:09:20.430266Z",
     "start_time": "2021-08-14T02:09:20.073234Z"
    },
    "scrolled": true
   },
   "outputs": [
    {
     "data": {
      "image/png": "[encoded data removed]",
      "text/plain": [
       "<Figure size 432x288 with 1 Axes>"
      ]
     },
     "metadata": {
      "needs_background": "light"
     },
     "output_type": "display_data"
    }
   ],
   "source": [
    "bins =25\n",
    "\n",
    "plt.hist(df_highprice, bins, alpha=1, label='>= median price', color='skyblue')\n",
    "plt.hist(df_lowprice, bins, alpha=1, label='lower than median price', color='black')\n",
    "plt.legend(loc='upper right')\n",
    "plt.show()"
   ]
  },
  {
   "cell_type": "code",
   "execution_count": 96,
   "metadata": {
    "ExecuteTime": {
     "end_time": "2021-08-13T21:09:01.958488Z",
     "start_time": "2021-08-13T21:09:01.951408Z"
    }
   },
   "outputs": [
    {
     "data": {
      "text/plain": [
       "3900.0    0.010677\n",
       "3940.0    0.000115\n",
       "3945.0    0.000058\n",
       "3949.0    0.000058\n",
       "3950.0    0.005771\n",
       "Name: price, dtype: float64"
      ]
     },
     "execution_count": 96,
     "metadata": {},
     "output_type": "execute_result"
    }
   ],
   "source": [
    "#making anew dataframe\n",
    "pmf = df_highprice.value_counts().sort_index() / len(df_highprice)\n",
    "pmf.head()"
   ]
  },
  {
   "cell_type": "markdown",
   "metadata": {},
   "source": [
    "_pmf_ is normalized, total probability would be __1__."
   ]
  },
  {
   "cell_type": "code",
   "execution_count": 97,
   "metadata": {
    "ExecuteTime": {
     "end_time": "2021-08-13T21:09:03.979892Z",
     "start_time": "2021-08-13T21:09:03.976021Z"
    }
   },
   "outputs": [
    {
     "data": {
      "text/plain": [
       "1.0"
      ]
     },
     "execution_count": 97,
     "metadata": {},
     "output_type": "execute_result"
    }
   ],
   "source": [
    "pmf.sum()"
   ]
  },
  {
   "cell_type": "code",
   "execution_count": 98,
   "metadata": {
    "ExecuteTime": {
     "end_time": "2021-08-13T21:09:05.296473Z",
     "start_time": "2021-08-13T21:09:05.288710Z"
    }
   },
   "outputs": [
    {
     "data": {
      "text/plain": [
       "Pmf({4500.0: 0.015755756911179086, 5500.0: 0.014774629191435332, 6500.0: 0.013158654123622092, 3900.0: 0.01067697812662319, 5000.0: 0.00986899059271657, 4200.0: 0.009811277197437525, 3999.0: 0.009695850406879437, 4000.0: 0.009695850406879437, 8500.0: 0.009580423616321347, 5900.0: 0.009522710221042304, 7500.0: 0.009349570035205172, 9500.0: 0.008945576268251862, 4900.0: 0.008830149477693772, 10500.0: 0.008772436082414728, 6000.0: 0.00865700929185664, 4800.0: 0.00796444854850811, 6900.0: 0.007791308362670976, 7000.0: 0.007271887805159577, 4999.0: 0.0072141744098805334, 8900.0: 0.006925607433485312, 11500.0: 0.006867894038206267, 5200.0: 0.0068101806429272235, 8000.0: 0.006752467247648179, 12500.0: 0.006694753852369135, 7900.0: 0.006521613666532002, 5999.0: 0.0064639002712529574, 4950.0: 0.00634847348069487, 9900.0: 0.006290760085415825, 13500.0: 0.006175333294857736, 6800.0: 0.006002193109020604, 9999.0: 0.005829052923183471, 3950.0: 0.005771339527904426, 4300.0: 0.005598199342067294, 14500.0: 0.0052519189703930285, 7999.0: 0.0052519189703930285, 12900.0: 0.0052519189703930285, 6200.0: 0.00513649217983494, 12000.0: 0.00513649217983494, 5800.0: 0.00513649217983494, 9000.0: 0.005078778784555895, 13900.0: 0.004963351993997807, 4990.0: 0.004963351993997807, 6999.0: 0.004905638598718762, 10000.0: 0.004790211808160674, 10900.0: 0.00473249841288163, 16500.0: 0.004617071622323541, 19500.0: 0.004617071622323541, 4700.0: 0.004617071622323541, 7800.0: 0.004617071622323541, 11900.0: 0.004617071622323541, 3990.0: 0.004559358227044497, 9990.0: 0.0045016448317654525, 8999.0: 0.004443931436486409, 13000.0: 0.004443931436486409, 5990.0: 0.004443931436486409, 7200.0: 0.004443931436486409, 11000.0: 0.004386218041207364, 14900.0: 0.00432850464592832, 5600.0: 0.004155364460091187, 9800.0: 0.0040976510648121425, 16900.0: 0.0040976510648121425, 4250.0: 0.0040976510648121425, 6990.0: 0.0040976510648121425, 6300.0: 0.0040976510648121425, 15500.0: 0.003982224274254055, 5300.0: 0.00392451087897501, 17500.0: 0.0038667974836959656, 4400.0: 0.0038667974836959656, 5950.0: 0.0037513706931378774, 8990.0: 0.003693657297858833, 15900.0: 0.003693657297858833, 15000.0: 0.0035782305073007443, 7990.0: 0.0035782305073007443, 4600.0: 0.0035205171120217004, 7950.0: 0.0035205171120217004, 6950.0: 0.0035205171120217004, 8800.0: 0.003462803716742656, 14000.0: 0.0034050903214636117, 5400.0: 0.0034050903214636117, 8200.0: 0.0033473769261845674, 6700.0: 0.0033473769261845674, 4100.0: 0.0033473769261845674, 7300.0: 0.0033473769261845674, 7400.0: 0.0032319501356264787, 9200.0: 0.003174236740347435, 18500.0: 0.003174236740347435, 5700.0: 0.0031165233450683905, 7600.0: 0.0031165233450683905, 8700.0: 0.003058809949789346, 4850.0: 0.003001096554510302, 4750.0: 0.0029433831592312575, 7700.0: 0.0029433831592312575, 4650.0: 0.002885669763952213, 6400.0: 0.002885669763952213, 17900.0: 0.002885669763952213, 7499.0: 0.002885669763952213, 6750.0: 0.002827956368673169, 10800.0: 0.002827956368673169, 12800.0: 0.002827956368673169, 10990.0: 0.002770242973394125, 16000.0: 0.002654816182836036, 5250.0: 0.002654816182836036, 19900.0: 0.002654816182836036, 4499.0: 0.002597102787556992, 14999.0: 0.002597102787556992, 12999.0: 0.0025393893922779475, 7250.0: 0.0025393893922779475, 6499.0: 0.0024816759969989036, 10999.0: 0.0024816759969989036, 8950.0: 0.0024816759969989036, 6600.0: 0.0024239626017198593, 23500.0: 0.002366249206440815, 7490.0: 0.0023085358111617706, 5490.0: 0.0023085358111617706, 17000.0: 0.0023085358111617706, 22500.0: 0.0022508224158827262, 8300.0: 0.0022508224158827262, 6450.0: 0.0022508224158827262, 21500.0: 0.002193109020603682, 11990.0: 0.002135395625324638, 4490.0: 0.002135395625324638, 18900.0: 0.002135395625324638, 6250.0: 0.0020776822300455937, 8400.0: 0.0020776822300455937, 4350.0: 0.0020776822300455937, 22900.0: 0.0020776822300455937, 8750.0: 0.0020776822300455937, 6490.0: 0.0020199688347665493, 5100.0: 0.0020199688347665493, 5499.0: 0.0020199688347665493, 6850.0: 0.0020199688347665493, 11999.0: 0.001962255439487505, 21900.0: 0.001962255439487505, 5750.0: 0.0019045420442084608, 9300.0: 0.0019045420442084608, 18000.0: 0.0019045420442084608, 15999.0: 0.0018468286489294165, 13999.0: 0.0018468286489294165, 4150.0: 0.0017891152536503722, 14990.0: 0.0017891152536503722, 5850.0: 0.0017891152536503722, 13990.0: 0.0017891152536503722, 11200.0: 0.0017891152536503722, 5450.0: 0.0017891152536503722, 24500.0: 0.0017891152536503722, 15990.0: 0.0017891152536503722, 8250.0: 0.0017891152536503722, 20900.0: 0.0017891152536503722, 11800.0: 0.001731401858371328, 6100.0: 0.001731401858371328, 13200.0: 0.001731401858371328, 8499.0: 0.001731401858371328, 13800.0: 0.0016159750678132394, 4450.0: 0.0016159750678132394, 10400.0: 0.0016159750678132394, 11950.0: 0.0016159750678132394, 9499.0: 0.0016159750678132394, 8450.0: 0.0016159750678132394, 9250.0: 0.0016159750678132394, 9950.0: 0.0015582616725341952, 5555.0: 0.0015582616725341952, 20000.0: 0.0015582616725341952, 19999.0: 0.001500548277255151, 27500.0: 0.001500548277255151, 26500.0: 0.001500548277255151, 7350.0: 0.001500548277255151, 7450.0: 0.001500548277255151, 8600.0: 0.001500548277255151, 15800.0: 0.0014428348819761066, 14200.0: 0.0014428348819761066, 21000.0: 0.0014428348819761066, 4199.0: 0.0014428348819761066, 5650.0: 0.0014428348819761066, 6350.0: 0.0013851214866970624, 20500.0: 0.0013851214866970624, 11300.0: 0.0013851214866970624, 7650.0: 0.0013851214866970624, 9700.0: 0.0013851214866970624, 8490.0: 0.0013851214866970624, 9750.0: 0.0013851214866970624, 11400.0: 0.0013851214866970624, 14800.0: 0.0013851214866970624, 16999.0: 0.0013851214866970624, 12200.0: 0.0013851214866970624, 5350.0: 0.0013851214866970624, 9400.0: 0.0013851214866970624, 22000.0: 0.001327408091418018, 6299.0: 0.001327408091418018, 25000.0: 0.001327408091418018, 23000.0: 0.001327408091418018, 7100.0: 0.001327408091418018, 25900.0: 0.001327408091418018, 10300.0: 0.001327408091418018, 12950.0: 0.001327408091418018, 9450.0: 0.001327408091418018, 16800.0: 0.0012696946961389738, 17999.0: 0.0012696946961389738, 25500.0: 0.0012696946961389738, 9600.0: 0.0012696946961389738, 12700.0: 0.0012696946961389738, 10950.0: 0.0012696946961389738, 26900.0: 0.0012696946961389738, 10700.0: 0.0012696946961389738, 7750.0: 0.0012696946961389738, 4399.0: 0.0012696946961389738, 10490.0: 0.0012696946961389738, 19990.0: 0.0012119813008599296, 12400.0: 0.0012119813008599296, 23900.0: 0.0012119813008599296, 12300.0: 0.0012119813008599296, 7850.0: 0.0011542679055808853, 14950.0: 0.0011542679055808853, 8100.0: 0.0011542679055808853, 24900.0: 0.0011542679055808853, 13950.0: 0.0011542679055808853, 24000.0: 0.0011542679055808853, 19000.0: 0.0011542679055808853, 10200.0: 0.0011542679055808853, 10600.0: 0.001096554510301841, 15200.0: 0.001096554510301841, 7777.0: 0.001096554510301841, 12490.0: 0.001096554510301841, 12499.0: 0.001096554510301841, 4444.0: 0.001096554510301841, 27000.0: 0.001096554510301841, 4550.0: 0.001096554510301841, 9850.0: 0.001096554510301841, 28000.0: 0.001096554510301841, 10499.0: 0.0010388411150227968, 8350.0: 0.0010388411150227968, 27900.0: 0.0010388411150227968, 18999.0: 0.0010388411150227968, 4699.0: 0.0010388411150227968, 12750.0: 0.0010388411150227968, 11499.0: 0.0010388411150227968, 17990.0: 0.0010388411150227968, 12990.0: 0.0010388411150227968, 4299.0: 0.0010388411150227968, 29500.0: 0.0009811277197437525, 19800.0: 0.0009811277197437525, 5550.0: 0.0009234143244647083, 5799.0: 0.0009234143244647083, 17800.0: 0.0009234143244647083, 18800.0: 0.0009234143244647083, 6890.0: 0.0009234143244647083, 16200.0: 0.0009234143244647083, 28500.0: 0.0009234143244647083, 5299.0: 0.000865700929185664, 8550.0: 0.000865700929185664, 24999.0: 0.000865700929185664, 9100.0: 0.000865700929185664, 8650.0: 0.000865700929185664, 4390.0: 0.000865700929185664, 16400.0: 0.0008079875339066197, 16990.0: 0.0008079875339066197, 14499.0: 0.0008079875339066197, 8888.0: 0.0008079875339066197, 6899.0: 0.0008079875339066197, 14600.0: 0.0008079875339066197, 18990.0: 0.0008079875339066197, 13499.0: 0.0008079875339066197, 32500.0: 0.0008079875339066197, 7150.0: 0.0008079875339066197, 29999.0: 0.0008079875339066197, 4899.0: 0.0008079875339066197, 5199.0: 0.0008079875339066197, 20990.0: 0.0008079875339066197, 28900.0: 0.0008079875339066197, 6650.0: 0.0008079875339066197, 21999.0: 0.0007502741386275754, 9350.0: 0.0007502741386275754, 4190.0: 0.0007502741386275754, 6150.0: 0.0007502741386275754, 7899.0: 0.0007502741386275754, 8150.0: 0.0007502741386275754, 6199.0: 0.0007502741386275754, 5290.0: 0.0007502741386275754, 17200.0: 0.0007502741386275754, 16700.0: 0.0007502741386275754, 5399.0: 0.0007502741386275754, 29900.0: 0.0007502741386275754, 17400.0: 0.0007502741386275754, 13300.0: 0.0007502741386275754, 26000.0: 0.0007502741386275754, 5890.0: 0.0007502741386275754, 4690.0: 0.0006925607433485312, 36000.0: 0.0006925607433485312, 15490.0: 0.0006925607433485312, 15700.0: 0.0006925607433485312, 8850.0: 0.0006925607433485312, 11700.0: 0.0006925607433485312, 34500.0: 0.0006925607433485312, 15499.0: 0.0006925607433485312, 31500.0: 0.0006925607433485312, 11490.0: 0.0006925607433485312, 6550.0: 0.0006925607433485312, 31900.0: 0.0006925607433485312, 12250.0: 0.0006925607433485312, 5150.0: 0.0006925607433485312, 15300.0: 0.0006925607433485312, 15400.0: 0.0006925607433485312, 21990.0: 0.0006925607433485312, 4799.0: 0.0006925607433485312, 17300.0: 0.0006925607433485312, 7299.0: 0.0006925607433485312, 34900.0: 0.0006348473480694869, 26999.0: 0.0006348473480694869, 17950.0: 0.0006348473480694869, 6666.0: 0.0006348473480694869, 11850.0: 0.0006348473480694869, 11750.0: 0.0006348473480694869, 8299.0: 0.0006348473480694869, 4290.0: 0.0006348473480694869, 11450.0: 0.0006348473480694869, 16300.0: 0.0006348473480694869, 10250.0: 0.0006348473480694869, 15950.0: 0.0006348473480694869, 11250.0: 0.0006348473480694869, 13490.0: 0.0006348473480694869, 10450.0: 0.0006348473480694869, 20800.0: 0.0006348473480694869, 39900.0: 0.0006348473480694869, 15600.0: 0.0006348473480694869, 17700.0: 0.0006348473480694869, 4790.0: 0.0006348473480694869, 33900.0: 0.0005771339527904426, 10350.0: 0.0005771339527904426, 7399.0: 0.0005771339527904426, 20999.0: 0.0005771339527904426, 5390.0: 0.0005771339527904426, 5699.0: 0.0005771339527904426, 11600.0: 0.0005771339527904426, 6790.0: 0.0005771339527904426, 14250.0: 0.0005771339527904426, 14850.0: 0.0005771339527904426, 5899.0: 0.0005771339527904426, 4590.0: 0.0005771339527904426, 25990.0: 0.0005771339527904426, 16490.0: 0.0005771339527904426, 23999.0: 0.0005771339527904426, 7799.0: 0.0005771339527904426, 9980.0: 0.0005771339527904426, 9150.0: 0.0005771339527904426, 13400.0: 0.0005771339527904426, 9650.0: 0.0005771339527904426, 14700.0: 0.0005771339527904426, 32000.0: 0.0005771339527904426, 22800.0: 0.0005194205575113984, 6699.0: 0.0005194205575113984, 12600.0: 0.0005194205575113984, 19200.0: 0.0005194205575113984, 14490.0: 0.0005194205575113984, 7599.0: 0.0005194205575113984, 8599.0: 0.0005194205575113984, 13750.0: 0.0005194205575113984, 13600.0: 0.0005194205575113984, 25999.0: 0.0005194205575113984, 30000.0: 0.0005194205575113984, 17850.0: 0.0005194205575113984, 6290.0: 0.0005194205575113984, 6390.0: 0.0005194205575113984, 15250.0: 0.0005194205575113984, 24300.0: 0.0005194205575113984, 16499.0: 0.0005194205575113984, 13450.0: 0.0005194205575113984, 10299.0: 0.0004617071622323541, 21499.0: 0.0004617071622323541, 10650.0: 0.0004617071622323541, 16250.0: 0.0004617071622323541, 18700.0: 0.0004617071622323541, 10750.0: 0.0004617071622323541, 6799.0: 0.0004617071622323541, 12450.0: 0.0004617071622323541, 14750.0: 0.0004617071622323541, 19950.0: 0.0004617071622323541, 9890.0: 0.0004617071622323541, 31000.0: 0.0004617071622323541, 14450.0: 0.0004617071622323541, 33500.0: 0.0004617071622323541, 10850.0: 0.0004617071622323541, 8699.0: 0.0004617071622323541, 8799.0: 0.0004617071622323541, 29990.0: 0.0004617071622323541, 18200.0: 0.0004617071622323541, 9290.0: 0.0004617071622323541, 35900.0: 0.0004617071622323541, 18490.0: 0.0004617071622323541, 37900.0: 0.0004617071622323541, 7790.0: 0.0004617071622323541, 10100.0: 0.0004617071622323541, 17490.0: 0.0004617071622323541, 12100.0: 0.0004617071622323541, 18600.0: 0.0004617071622323541, 22950.0: 0.0004617071622323541, 17499.0: 0.0004617071622323541, 23499.0: 0.0004617071622323541, 8390.0: 0.0004617071622323541, 35000.0: 0.0004617071622323541, 16350.0: 0.00040399376695330984, 4980.0: 0.00040399376695330984, 3980.0: 0.00040399376695330984, 7290.0: 0.00040399376695330984, 24950.0: 0.00040399376695330984, 9399.0: 0.00040399376695330984, 9790.0: 0.00040399376695330984, 29000.0: 0.00040399376695330984, 9490.0: 0.00040399376695330984, 21400.0: 0.00040399376695330984, 7690.0: 0.00040399376695330984, 24990.0: 0.00040399376695330984, 39500.0: 0.00040399376695330984, 27990.0: 0.00040399376695330984, 30500.0: 0.00040399376695330984, 6690.0: 0.00040399376695330984, 26300.0: 0.00040399376695330984, 18450.0: 0.00040399376695330984, 22999.0: 0.00040399376695330984, 34000.0: 0.00040399376695330984, 8199.0: 0.00040399376695330984, 15450.0: 0.00040399376695330984, 4599.0: 0.00040399376695330984, 11399.0: 0.00040399376695330984, 6399.0: 0.00040399376695330984, 14890.0: 0.00040399376695330984, 5790.0: 0.00040399376695330984, 4890.0: 0.00040399376695330984, 14300.0: 0.00040399376695330984, 33000.0: 0.00040399376695330984, 18499.0: 0.00040399376695330984, 12899.0: 0.00040399376695330984, 10199.0: 0.00040399376695330984, 27499.0: 0.0003462803716742656, 20490.0: 0.0003462803716742656, 22300.0: 0.0003462803716742656, 7190.0: 0.0003462803716742656, 13700.0: 0.0003462803716742656, 7550.0: 0.0003462803716742656, 18950.0: 0.0003462803716742656, 42900.0: 0.0003462803716742656, 8790.0: 0.0003462803716742656, 18400.0: 0.0003462803716742656, 19300.0: 0.0003462803716742656, 9199.0: 0.0003462803716742656, 32900.0: 0.0003462803716742656, 4099.0: 0.0003462803716742656, 6599.0: 0.0003462803716742656, 13250.0: 0.0003462803716742656, 24200.0: 0.0003462803716742656, 22490.0: 0.0003462803716742656, 38900.0: 0.0003462803716742656, 21490.0: 0.0003462803716742656, 16950.0: 0.0003462803716742656, 22400.0: 0.0003462803716742656, 27999.0: 0.0003462803716742656, 17250.0: 0.0003462803716742656, 11350.0: 0.0003462803716742656, 18300.0: 0.0003462803716742656, 6590.0: 0.0003462803716742656, 31999.0: 0.0003462803716742656, 12350.0: 0.0003462803716742656, 9299.0: 0.0003462803716742656, 11650.0: 0.0003462803716742656, 4995.0: 0.0003462803716742656, 23990.0: 0.0003462803716742656, 12790.0: 0.0003462803716742656, 7699.0: 0.0003462803716742656, 12850.0: 0.0003462803716742656, 7390.0: 0.0003462803716742656, 21950.0: 0.0003462803716742656, 17600.0: 0.0003462803716742656, 13100.0: 0.0003462803716742656, 15750.0: 0.0003462803716742656, 38500.0: 0.0003462803716742656, 14400.0: 0.0003462803716742656, 6190.0: 0.0002885669763952213, 13550.0: 0.0002885669763952213, 9799.0: 0.0002885669763952213, 15890.0: 0.0002885669763952213, 16750.0: 0.0002885669763952213, 8690.0: 0.0002885669763952213, 26800.0: 0.0002885669763952213, 52900.0: 0.0002885669763952213, 16450.0: 0.0002885669763952213, 31800.0: 0.0002885669763952213, 18250.0: 0.0002885669763952213, 28450.0: 0.0002885669763952213, 15850.0: 0.0002885669763952213, 8290.0: 0.0002885669763952213, 7590.0: 0.0002885669763952213, 13799.0: 0.0002885669763952213, 10550.0: 0.0002885669763952213, 21300.0: 0.0002885669763952213, 9690.0: 0.0002885669763952213, 45000.0: 0.0002885669763952213, 29950.0: 0.0002885669763952213, 26990.0: 0.0002885669763952213, 22990.0: 0.0002885669763952213, 41500.0: 0.0002885669763952213, 16600.0: 0.0002885669763952213, 23490.0: 0.0002885669763952213, 12299.0: 0.0002885669763952213, 25800.0: 0.0002885669763952213, 9995.0: 0.0002885669763952213, 10799.0: 0.0002885669763952213, 13850.0: 0.0002885669763952213, 12399.0: 0.0002885669763952213, 27300.0: 0.0002885669763952213, 7980.0: 0.0002885669763952213, 5690.0: 0.0002885669763952213, 28999.0: 0.0002885669763952213, 23950.0: 0.0002885669763952213, 6480.0: 0.0002885669763952213, 23800.0: 0.0002885669763952213, 17750.0: 0.0002885669763952213, 28990.0: 0.0002885669763952213, 11111.0: 0.0002885669763952213, 7199.0: 0.0002885669763952213, 39999.0: 0.0002885669763952213, 44900.0: 0.0002885669763952213, 30900.0: 0.0002885669763952213, 10290.0: 0.00023085358111617706, 37500.0: 0.00023085358111617706, 11100.0: 0.00023085358111617706, 5995.0: 0.00023085358111617706, 11980.0: 0.00023085358111617706, 5590.0: 0.00023085358111617706, 27490.0: 0.00023085358111617706, 5599.0: 0.00023085358111617706, 28800.0: 0.00023085358111617706, 21800.0: 0.00023085358111617706, 49500.0: 0.00023085358111617706, 20850.0: 0.00023085358111617706, 29800.0: 0.00023085358111617706, 25200.0: 0.00023085358111617706, 20400.0: 0.00023085358111617706, 53000.0: 0.00023085358111617706, 55000.0: 0.00023085358111617706, 16790.0: 0.00023085358111617706, 16299.0: 0.00023085358111617706, 16590.0: 0.00023085358111617706, 26499.0: 0.00023085358111617706, 10599.0: 0.00023085358111617706, 36500.0: 0.00023085358111617706, 49900.0: 0.00023085358111617706, 12890.0: 0.00023085358111617706, 17450.0: 0.00023085358111617706, 8399.0: 0.00023085358111617706, 20950.0: 0.00023085358111617706, 3998.0: 0.00023085358111617706, 24499.0: 0.00023085358111617706, 37800.0: 0.00023085358111617706, 11995.0: 0.00023085358111617706, 20200.0: 0.00023085358111617706, 19490.0: 0.00023085358111617706, 6099.0: 0.00023085358111617706, 8190.0: 0.00023085358111617706, 13980.0: 0.00023085358111617706, 43900.0: 0.00023085358111617706, 20750.0: 0.00023085358111617706, 56000.0: 0.00023085358111617706, 14699.0: 0.00023085358111617706, 6980.0: 0.00023085358111617706, 13350.0: 0.00023085358111617706, 32999.0: 0.00023085358111617706, 34800.0: 0.00023085358111617706, 8590.0: 0.00023085358111617706, 16890.0: 0.00023085358111617706, 23200.0: 0.00023085358111617706, 19995.0: 0.00023085358111617706, 23600.0: 0.00023085358111617706, 23400.0: 0.00023085358111617706, 36900.0: 0.00023085358111617706, 8890.0: 0.00023085358111617706, 45500.0: 0.00023085358111617706, 19600.0: 0.00023085358111617706, 19400.0: 0.00023085358111617706, 21200.0: 0.00023085358111617706, 13650.0: 0.00023085358111617706, 19299.0: 0.00023085358111617706, 34999.0: 0.00023085358111617706, 11550.0: 0.00023085358111617706, 9699.0: 0.00023085358111617706, 19850.0: 0.00023085358111617706, 10980.0: 0.00023085358111617706, 47000.0: 0.0001731401858371328, 15899.0: 0.0001731401858371328, 26400.0: 0.0001731401858371328, 13599.0: 0.0001731401858371328, 12290.0: 0.0001731401858371328, 10899.0: 0.0001731401858371328, 59500.0: 0.0001731401858371328, 26950.0: 0.0001731401858371328, 24400.0: 0.0001731401858371328, 14550.0: 0.0001731401858371328, 35500.0: 0.0001731401858371328, 10699.0: 0.0001731401858371328, 33990.0: 0.0001731401858371328, 4249.0: 0.0001731401858371328, 27950.0: 0.0001731401858371328, 23250.0: 0.0001731401858371328, 14599.0: 0.0001731401858371328, 11480.0: 0.0001731401858371328, 7890.0: 0.0001731401858371328, 11390.0: 0.0001731401858371328, 15590.0: 0.0001731401858371328, 15399.0: 0.0001731401858371328, 6970.0: 0.0001731401858371328, 24490.0: 0.0001731401858371328, 17890.0: 0.0001731401858371328, 20550.0: 0.0001731401858371328, 28950.0: 0.0001731401858371328, 31990.0: 0.0001731401858371328, 18750.0: 0.0001731401858371328, 17299.0: 0.0001731401858371328, 45900.0: 0.0001731401858371328, 5099.0: 0.0001731401858371328, 4998.0: 0.0001731401858371328, 15299.0: 0.0001731401858371328, 11699.0: 0.0001731401858371328, 28499.0: 0.0001731401858371328, 21600.0: 0.0001731401858371328, 21750.0: 0.0001731401858371328, 28600.0: 0.0001731401858371328, 48900.0: 0.0001731401858371328, 26200.0: 0.0001731401858371328, 19650.0: 0.0001731401858371328, 17350.0: 0.0001731401858371328, 24890.0: 0.0001731401858371328, 33999.0: 0.0001731401858371328, 14399.0: 0.0001731401858371328, 27777.0: 0.0001731401858371328, 18790.0: 0.0001731401858371328, 48500.0: 0.0001731401858371328, 11690.0: 0.0001731401858371328, 13890.0: 0.0001731401858371328, 15555.0: 0.0001731401858371328, 38000.0: 0.0001731401858371328, 16399.0: 0.0001731401858371328, 20499.0: 0.0001731401858371328, 5222.0: 0.0001731401858371328, 15350.0: 0.0001731401858371328, 29490.0: 0.0001731401858371328, 23700.0: 0.0001731401858371328, 34990.0: 0.0001731401858371328, 24850.0: 0.0001731401858371328, 25980.0: 0.0001731401858371328, 28200.0: 0.0001731401858371328, 33800.0: 0.0001731401858371328, 16850.0: 0.0001731401858371328, 19700.0: 0.0001731401858371328, 22450.0: 0.0001731401858371328, 5190.0: 0.0001731401858371328, 4050.0: 0.0001731401858371328, 42500.0: 0.0001731401858371328, 74900.0: 0.0001731401858371328, 41900.0: 0.0001731401858371328, 25350.0: 0.0001731401858371328, 22250.0: 0.0001731401858371328, 48000.0: 0.0001731401858371328, 4090.0: 0.0001731401858371328, 32990.0: 0.0001731401858371328, 13995.0: 0.0001731401858371328, 49000.0: 0.0001731401858371328, 9390.0: 0.0001731401858371328, 12980.0: 0.0001731401858371328, 24800.0: 0.0001731401858371328, 21850.0: 0.0001731401858371328, 40900.0: 0.0001731401858371328, 13390.0: 0.0001731401858371328, 16899.0: 0.0001731401858371328, 11890.0: 0.0001731401858371328, 5980.0: 0.0001731401858371328, 14980.0: 0.0001731401858371328, 49999.0: 0.0001731401858371328, 16799.0: 0.0001731401858371328, 24600.0: 0.0001731401858371328, 18850.0: 0.0001731401858371328, 44000.0: 0.0001731401858371328, 47500.0: 0.0001731401858371328, 13299.0: 0.0001731401858371328, 27800.0: 0.0001731401858371328, 7888.0: 0.0001731401858371328, 20650.0: 0.0001731401858371328, 31490.0: 0.0001731401858371328, 26850.0: 0.0001731401858371328, 20890.0: 0.0001731401858371328, 10590.0: 0.0001731401858371328, 6680.0: 0.0001731401858371328, 52500.0: 0.0001731401858371328, 5333.0: 0.0001731401858371328, 16290.0: 0.0001731401858371328, 35499.0: 0.00011542679055808853, 3940.0: 0.00011542679055808853, 15799.0: 0.00011542679055808853, 37850.0: 0.00011542679055808853, 19890.0: 0.00011542679055808853, 32700.0: 0.00011542679055808853, 3995.0: 0.00011542679055808853, 26250.0: 0.00011542679055808853, 10998.0: 0.00011542679055808853, 7395.0: 0.00011542679055808853, 41000.0: 0.00011542679055808853, 14444.0: 0.00011542679055808853, 14995.0: 0.00011542679055808853, 9899.0: 0.00011542679055808853, 25250.0: 0.00011542679055808853, 11799.0: 0.00011542679055808853, 8880.0: 0.00011542679055808853, 16390.0: 0.00011542679055808853, 9895.0: 0.00011542679055808853, 4480.0: 0.00011542679055808853, 6989.0: 0.00011542679055808853, 6840.0: 0.00011542679055808853, 9599.0: 0.00011542679055808853, 18350.0: 0.00011542679055808853, 74999.0: 0.00011542679055808853, 16980.0: 0.00011542679055808853, 19450.0: 0.00011542679055808853, 12449.0: 0.00011542679055808853, 12190.0: 0.00011542679055808853, 7099.0: 0.00011542679055808853, 42990.0: 0.00011542679055808853, 42996.0: 0.00011542679055808853, 27400.0: 0.00011542679055808853, 13150.0: 0.00011542679055808853, 21450.0: 0.00011542679055808853, 10666.0: 0.00011542679055808853, 13970.0: 0.00011542679055808853, 13555.0: 0.00011542679055808853, 35790.0: 0.00011542679055808853, 4580.0: 0.00011542679055808853, 8222.0: 0.00011542679055808853, 19750.0: 0.00011542679055808853, 16333.0: 0.00011542679055808853, 25499.0: 0.00011542679055808853, 33700.0: 0.00011542679055808853, 21890.0: 0.00011542679055808853, 25987.0: 0.00011542679055808853, 40999.0: 0.00011542679055808853, 10399.0: 0.00011542679055808853, 6888.0: 0.00011542679055808853, 6995.0: 0.00011542679055808853, 26450.0: 0.00011542679055808853, 46000.0: 0.00011542679055808853, 60000.0: 0.00011542679055808853, 51900.0: 0.00011542679055808853, 26899.0: 0.00011542679055808853, 10880.0: 0.00011542679055808853, 38990.0: 0.00011542679055808853, 12150.0: 0.00011542679055808853, 14350.0: 0.00011542679055808853, 14290.0: 0.00011542679055808853, 16100.0: 0.00011542679055808853, 20390.0: 0.00011542679055808853, 30999.0: 0.00011542679055808853, 14986.0: 0.00011542679055808853, 48999.0: 0.00011542679055808853, 21250.0: 0.00011542679055808853, 26700.0: 0.00011542679055808853, 17699.0: 0.00011542679055808853, 14299.0: 0.00011542679055808853, 9550.0: 0.00011542679055808853, 63999.0: 0.00011542679055808853, 31199.0: 0.00011542679055808853, 34950.0: 0.00011542679055808853, 25600.0: 0.00011542679055808853, 19499.0: 0.00011542679055808853, 33490.0: 0.00011542679055808853, 13899.0: 0.00011542679055808853, 16880.0: 0.00011542679055808853, 15650.0: 0.00011542679055808853, 5666.0: 0.00011542679055808853, 29200.0: 0.00011542679055808853, 17650.0: 0.00011542679055808853, 18799.0: 0.00011542679055808853, 17777.0: 0.00011542679055808853, 8050.0: 0.00011542679055808853, 10975.0: 0.00011542679055808853, 30990.0: 0.00011542679055808853, 20700.0: 0.00011542679055808853, 9777.0: 0.00011542679055808853, 4470.0: 0.00011542679055808853, 21980.0: 0.00011542679055808853, 28750.0: 0.00011542679055808853, 9975.0: 0.00011542679055808853, 4985.0: 0.00011542679055808853, 56500.0: 0.00011542679055808853, 28490.0: 0.00011542679055808853, 6149.0: 0.00011542679055808853, 17590.0: 0.00011542679055808853, 22750.0: 0.00011542679055808853, 9870.0: 0.00011542679055808853, 5050.0: 0.00011542679055808853, 9190.0: 0.00011542679055808853, 4666.0: 0.00011542679055808853, 64500.0: 0.00011542679055808853, 5870.0: 0.00011542679055808853, 9998.0: 0.00011542679055808853, 5880.0: 0.00011542679055808853, 19350.0: 0.00011542679055808853, 13333.0: 0.00011542679055808853, 18100.0: 0.00011542679055808853, 24450.0: 0.00011542679055808853, 38800.0: 0.00011542679055808853, 53900.0: 0.00011542679055808853, 10150.0: 0.00011542679055808853, 21780.0: 0.00011542679055808853, 34499.0: 0.00011542679055808853, 58500.0: 0.00011542679055808853, 6795.0: 0.00011542679055808853, 22650.0: 0.00011542679055808853, 4498.0: 0.00011542679055808853, 59000.0: 0.00011542679055808853, 15550.0: 0.00011542679055808853, 40500.0: 0.00011542679055808853, 35999.0: 0.00011542679055808853, 17100.0: 0.00011542679055808853, 6249.0: 0.00011542679055808853, 46900.0: 0.00011542679055808853, 25750.0: 0.00011542679055808853, 29850.0: 0.00011542679055808853, 13199.0: 0.00011542679055808853, 37000.0: 0.00011542679055808853, 21590.0: 0.00011542679055808853, 30499.0: 0.00011542679055808853, 27700.0: 0.00011542679055808853, 4555.0: 0.00011542679055808853, 14100.0: 0.00011542679055808853, 32222.0: 0.00011542679055808853, 29350.0: 0.00011542679055808853, 29700.0: 0.00011542679055808853, 29750.0: 0.00011542679055808853, 30700.0: 0.00011542679055808853, 23333.0: 0.00011542679055808853, 93000.0: 0.00011542679055808853, 25400.0: 0.00011542679055808853, 6222.0: 0.00011542679055808853, 26750.0: 0.00011542679055808853, 43000.0: 0.00011542679055808853, 29499.0: 0.00011542679055808853, 11930.0: 0.00011542679055808853, 22850.0: 0.00011542679055808853, 9349.0: 0.00011542679055808853, 32950.0: 0.00011542679055808853, 27450.0: 0.00011542679055808853, 27750.0: 0.00011542679055808853, 22700.0: 0.00011542679055808853, 12699.0: 0.00011542679055808853, 33950.0: 0.00011542679055808853, 32400.0: 0.00011542679055808853, 10050.0: 0.00011542679055808853, 18599.0: 0.00011542679055808853, 22600.0: 0.00011542679055808853, 43500.0: 0.00011542679055808853, 37999.0: 0.00011542679055808853, 16599.0: 0.00011542679055808853, 24980.0: 0.00011542679055808853, 16480.0: 0.00011542679055808853, 27850.0: 0.00011542679055808853, 31499.0: 0.00011542679055808853, 80000.0: 0.00011542679055808853, 19998.0: 0.00011542679055808853, 14390.0: 0.00011542679055808853, 35890.0: 0.00011542679055808853, 31950.0: 0.00011542679055808853, 5249.0: 0.00011542679055808853, 24750.0: 0.00011542679055808853, 4888.0: 0.00011542679055808853, 6870.0: 0.00011542679055808853, 16150.0: 0.00011542679055808853, 62900.0: 0.00011542679055808853, 18650.0: 0.00011542679055808853, 10280.0: 0.00011542679055808853, 18299.0: 0.00011542679055808853, 120000.0: 0.00011542679055808853, 12549.0: 0.00011542679055808853, 31799.0: 0.00011542679055808853, 5695.0: 0.00011542679055808853, 11199.0: 0.00011542679055808853, 8899.0: 0.00011542679055808853, 19199.0: 0.00011542679055808853, 25650.0: 0.00011542679055808853, 4830.0: 0.00011542679055808853, 50500.0: 0.00011542679055808853, 15880.0: 0.00011542679055808853, 8249.0: 0.00011542679055808853, 23750.0: 0.00011542679055808853, 36999.0: 0.00011542679055808853, 6849.0: 0.00011542679055808853, 39300.0: 0.00011542679055808853, 14190.0: 0.00011542679055808853, 6208.0: 5.7713395279044266e-05, 20495.0: 5.7713395279044266e-05, 8333.0: 5.7713395279044266e-05, 10498.0: 5.7713395279044266e-05, 7435.0: 5.7713395279044266e-05, 34850.0: 5.7713395279044266e-05, 5195.0: 5.7713395279044266e-05, 7470.0: 5.7713395279044266e-05, 21690.0: 5.7713395279044266e-05, 44500.0: 5.7713395279044266e-05, 86500.0: 5.7713395279044266e-05, 8495.0: 5.7713395279044266e-05, 6545.0: 5.7713395279044266e-05, 21790.0: 5.7713395279044266e-05, 16960.0: 5.7713395279044266e-05, 37450.0: 5.7713395279044266e-05, 5949.0: 5.7713395279044266e-05, 295000.0: 5.7713395279044266e-05, 4840.0: 5.7713395279044266e-05, 73900.0: 5.7713395279044266e-05, 11687.0: 5.7713395279044266e-05, 23850.0: 5.7713395279044266e-05, 69993.0: 5.7713395279044266e-05, 17980.0: 5.7713395279044266e-05, 21599.0: 5.7713395279044266e-05, 20790.0: 5.7713395279044266e-05, 10790.0: 5.7713395279044266e-05, 61999.0: 5.7713395279044266e-05, 5740.0: 5.7713395279044266e-05, 32949.0: 5.7713395279044266e-05, 61500.0: 5.7713395279044266e-05, 163991.0: 5.7713395279044266e-05, 55500.0: 5.7713395279044266e-05, 20480.0: 5.7713395279044266e-05, 7849.0: 5.7713395279044266e-05, 17419.0: 5.7713395279044266e-05, 13798.0: 5.7713395279044266e-05, 14489.0: 5.7713395279044266e-05, 15492.0: 5.7713395279044266e-05, 26725.0: 5.7713395279044266e-05, 37300.0: 5.7713395279044266e-05, 16975.0: 5.7713395279044266e-05, 84000.0: 5.7713395279044266e-05, 34150.0: 5.7713395279044266e-05, 6140.0: 5.7713395279044266e-05, 25699.0: 5.7713395279044266e-05, 27280.0: 5.7713395279044266e-05, 139997.0: 5.7713395279044266e-05, 13498.0: 5.7713395279044266e-05, 3945.0: 5.7713395279044266e-05, 23650.0: 5.7713395279044266e-05, 20589.0: 5.7713395279044266e-05, 5689.0: 5.7713395279044266e-05, 6940.0: 5.7713395279044266e-05, 69999.0: 5.7713395279044266e-05, 8930.0: 5.7713395279044266e-05, 30400.0: 5.7713395279044266e-05, 6749.0: 5.7713395279044266e-05, 8008.0: 5.7713395279044266e-05, 63499.0: 5.7713395279044266e-05, 20590.0: 5.7713395279044266e-05, 4005.0: 5.7713395279044266e-05, 29400.0: 5.7713395279044266e-05, 20222.0: 5.7713395279044266e-05, 30987.0: 5.7713395279044266e-05, 10949.0: 5.7713395279044266e-05, 11899.0: 5.7713395279044266e-05, 38950.0: 5.7713395279044266e-05, 45949.0: 5.7713395279044266e-05, 6460.0: 5.7713395279044266e-05, 13988.0: 5.7713395279044266e-05, 17190.0: 5.7713395279044266e-05, 6498.0: 5.7713395279044266e-05, 55555.0: 5.7713395279044266e-05, 65990.0: 5.7713395279044266e-05, 40000.0: 5.7713395279044266e-05, 30570.0: 5.7713395279044266e-05, 5198.0: 5.7713395279044266e-05, 24699.0: 5.7713395279044266e-05, 14337.0: 5.7713395279044266e-05, 69997.0: 5.7713395279044266e-05, 13383.0: 5.7713395279044266e-05, 17695.0: 5.7713395279044266e-05, 26849.0: 5.7713395279044266e-05, 9773.0: 5.7713395279044266e-05, 6495.0: 5.7713395279044266e-05, 66500.0: 5.7713395279044266e-05, 14998.0: 5.7713395279044266e-05, 115000.0: 5.7713395279044266e-05, 15413.0: 5.7713395279044266e-05, 19699.0: 5.7713395279044266e-05, 94999.0: 5.7713395279044266e-05, 47499.0: 5.7713395279044266e-05, 11749.0: 5.7713395279044266e-05, 4525.0: 5.7713395279044266e-05, 25390.0: 5.7713395279044266e-05, 7240.0: 5.7713395279044266e-05, 6202.0: 5.7713395279044266e-05, 67000.0: 5.7713395279044266e-05, 17996.0: 5.7713395279044266e-05, 62000.0: 5.7713395279044266e-05, 5255.0: 5.7713395279044266e-05, 15100.0: 5.7713395279044266e-05, 23799.0: 5.7713395279044266e-05, 65700.0: 5.7713395279044266e-05, 17599.0: 5.7713395279044266e-05, 18310.0: 5.7713395279044266e-05, 11389.0: 5.7713395279044266e-05, 13480.0: 5.7713395279044266e-05, 26660.0: 5.7713395279044266e-05, 25850.0: 5.7713395279044266e-05, 65699.0: 5.7713395279044266e-05, 13349.0: 5.7713395279044266e-05, 35222.0: 5.7713395279044266e-05, 38999.0: 5.7713395279044266e-05, 12349.0: 5.7713395279044266e-05, 4210.0: 5.7713395279044266e-05, 198000.0: 5.7713395279044266e-05, 47950.0: 5.7713395279044266e-05, 98500.0: 5.7713395279044266e-05, 43461.0: 5.7713395279044266e-05, 46200.0: 5.7713395279044266e-05, 46500.0: 5.7713395279044266e-05, 61900.0: 5.7713395279044266e-05, 21888.0: 5.7713395279044266e-05, 48600.0: 5.7713395279044266e-05, 7498.0: 5.7713395279044266e-05, 9845.0: 5.7713395279044266e-05, 27020.0: 5.7713395279044266e-05, 5998.0: 5.7713395279044266e-05, 30933.0: 5.7713395279044266e-05, 9666.0: 5.7713395279044266e-05, 4955.0: 5.7713395279044266e-05, 5685.0: 5.7713395279044266e-05, 23540.0: 5.7713395279044266e-05, 19666.0: 5.7713395279044266e-05, 64600.0: 5.7713395279044266e-05, 7380.0: 5.7713395279044266e-05, 15390.0: 5.7713395279044266e-05, 11540.0: 5.7713395279044266e-05, 23790.0: 5.7713395279044266e-05, 34940.0: 5.7713395279044266e-05, 11982.0: 5.7713395279044266e-05, 5248.0: 5.7713395279044266e-05, 11240.0: 5.7713395279044266e-05, 11140.0: 5.7713395279044266e-05, 15777.0: 5.7713395279044266e-05, 20250.0: 5.7713395279044266e-05, 33300.0: 5.7713395279044266e-05, 82987.0: 5.7713395279044266e-05, 18699.0: 5.7713395279044266e-05, 4201.0: 5.7713395279044266e-05, 9325.0: 5.7713395279044266e-05, 4649.0: 5.7713395279044266e-05, 22690.0: 5.7713395279044266e-05, 8345.0: 5.7713395279044266e-05, 14863.0: 5.7713395279044266e-05, 15870.0: 5.7713395279044266e-05, 22799.0: 5.7713395279044266e-05, 19780.0: 5.7713395279044266e-05, 3949.0: 5.7713395279044266e-05, 32150.0: 5.7713395279044266e-05, 47900.0: 5.7713395279044266e-05, 22399.0: 5.7713395279044266e-05, 22555.0: 5.7713395279044266e-05, 40800.0: 5.7713395279044266e-05, 6725.0: 5.7713395279044266e-05, 30950.0: 5.7713395279044266e-05, 190000.0: 5.7713395279044266e-05, 56900.0: 5.7713395279044266e-05, 8777.0: 5.7713395279044266e-05, 19599.0: 5.7713395279044266e-05, 4497.0: 5.7713395279044266e-05, 45950.0: 5.7713395279044266e-05, 35370.0: 5.7713395279044266e-05, 6920.0: 5.7713395279044266e-05, 7555.0: 5.7713395279044266e-05, 8655.0: 5.7713395279044266e-05, 34890.0: 5.7713395279044266e-05, 6770.0: 5.7713395279044266e-05, 11825.0: 5.7713395279044266e-05, 18470.0: 5.7713395279044266e-05, 27690.0: 5.7713395279044266e-05, 299000.0: 5.7713395279044266e-05, 8285.0: 5.7713395279044266e-05, 55996.0: 5.7713395279044266e-05, 42760.0: 5.7713395279044266e-05, 12470.0: 5.7713395279044266e-05, 7930.0: 5.7713395279044266e-05, 51500.0: 5.7713395279044266e-05, 38200.0: 5.7713395279044266e-05, 33750.0: 5.7713395279044266e-05, 99000.0: 5.7713395279044266e-05, 29777.0: 5.7713395279044266e-05, 4295.0: 5.7713395279044266e-05, 79980.0: 5.7713395279044266e-05, 30899.0: 5.7713395279044266e-05, 22790.0: 5.7713395279044266e-05, 24888.0: 5.7713395279044266e-05, 24550.0: 5.7713395279044266e-05, 265000.0: 5.7713395279044266e-05, 12889.0: 5.7713395279044266e-05, 29989.0: 5.7713395279044266e-05, 6295.0: 5.7713395279044266e-05, 13560.0: 5.7713395279044266e-05, 28850.0: 5.7713395279044266e-05, 25698.0: 5.7713395279044266e-05, 6050.0: 5.7713395279044266e-05, 57800.0: 5.7713395279044266e-05, 9970.0: 5.7713395279044266e-05, 20150.0: 5.7713395279044266e-05, 10480.0: 5.7713395279044266e-05, 10890.0: 5.7713395279044266e-05, 22299.0: 5.7713395279044266e-05, 40499.0: 5.7713395279044266e-05, 38450.0: 5.7713395279044266e-05, 11495.0: 5.7713395279044266e-05, 15249.0: 5.7713395279044266e-05, 26390.0: 5.7713395279044266e-05, 4549.0: 5.7713395279044266e-05, 22290.0: 5.7713395279044266e-05, 6340.0: 5.7713395279044266e-05, 10830.0: 5.7713395279044266e-05, 18430.0: 5.7713395279044266e-05, 3975.0: 5.7713395279044266e-05, 105000.0: 5.7713395279044266e-05, 9555.0: 5.7713395279044266e-05, 15749.0: 5.7713395279044266e-05, 29445.0: 5.7713395279044266e-05, 5185.0: 5.7713395279044266e-05, 12340.0: 5.7713395279044266e-05, 169999.0: 5.7713395279044266e-05, 84997.0: 5.7713395279044266e-05, 7680.0: 5.7713395279044266e-05, 10111.0: 5.7713395279044266e-05, 30888.0: 5.7713395279044266e-05, 24350.0: 5.7713395279044266e-05, 22989.0: 5.7713395279044266e-05, 24895.0: 5.7713395279044266e-05, 12333.0: 5.7713395279044266e-05, 4567.0: 5.7713395279044266e-05, 9249.0: 5.7713395279044266e-05, 52911.0: 5.7713395279044266e-05, 73996.0: 5.7713395279044266e-05, 12199.0: 5.7713395279044266e-05, 20299.0: 5.7713395279044266e-05, 5634.0: 5.7713395279044266e-05, 68900.0: 5.7713395279044266e-05, 10777.0: 5.7713395279044266e-05, 29970.0: 5.7713395279044266e-05, 20290.0: 5.7713395279044266e-05, 39990.0: 5.7713395279044266e-05, 21299.0: 5.7713395279044266e-05, 35700.0: 5.7713395279044266e-05, 34550.0: 5.7713395279044266e-05, 5444.0: 5.7713395279044266e-05, 119900.0: 5.7713395279044266e-05, 76997.0: 5.7713395279044266e-05, 72900.0: 5.7713395279044266e-05, 17830.0: 5.7713395279044266e-05, 24360.0: 5.7713395279044266e-05, 8595.0: 5.7713395279044266e-05, 7795.0: 5.7713395279044266e-05, 12690.0: 5.7713395279044266e-05, 68750.0: 5.7713395279044266e-05, 11150.0: 5.7713395279044266e-05, 64999.0: 5.7713395279044266e-05, 6333.0: 5.7713395279044266e-05, 3952.0: 5.7713395279044266e-05, 26294.0: 5.7713395279044266e-05, 6578.0: 5.7713395279044266e-05, 29380.0: 5.7713395279044266e-05, 39800.0: 5.7713395279044266e-05, 64900.0: 5.7713395279044266e-05, 23233.0: 5.7713395279044266e-05, 27350.0: 5.7713395279044266e-05, 6279.0: 5.7713395279044266e-05, 44200.0: 5.7713395279044266e-05, 15199.0: 5.7713395279044266e-05, 8420.0: 5.7713395279044266e-05, 4270.0: 5.7713395279044266e-05, 22199.0: 5.7713395279044266e-05, 34996.0: 5.7713395279044266e-05, 6979.0: 5.7713395279044266e-05, 48490.0: 5.7713395279044266e-05, 7085.0: 5.7713395279044266e-05, 68300.0: 5.7713395279044266e-05, 24242.0: 5.7713395279044266e-05, 19121.0: 5.7713395279044266e-05, 4780.0: 5.7713395279044266e-05, 6389.0: 5.7713395279044266e-05, 18090.0: 5.7713395279044266e-05, 350000.0: 5.7713395279044266e-05, 50900.0: 5.7713395279044266e-05, 11090.0: 5.7713395279044266e-05, 22996.0: 5.7713395279044266e-05, 72500.0: 5.7713395279044266e-05, 14321.0: 5.7713395279044266e-05, 28399.0: 5.7713395279044266e-05, 13680.0: 5.7713395279044266e-05, 14199.0: 5.7713395279044266e-05, 259000.0: 5.7713395279044266e-05, 44497.0: 5.7713395279044266e-05, 16690.0: 5.7713395279044266e-05, 40400.0: 5.7713395279044266e-05, 20199.0: 5.7713395279044266e-05, 18150.0: 5.7713395279044266e-05, 68500.0: 5.7713395279044266e-05, 5049.0: 5.7713395279044266e-05, 24290.0: 5.7713395279044266e-05, 5298.0: 5.7713395279044266e-05, 23450.0: 5.7713395279044266e-05, 6755.0: 5.7713395279044266e-05, 88900.0: 5.7713395279044266e-05, 22980.0: 5.7713395279044266e-05, 6444.0: 5.7713395279044266e-05, 23590.0: 5.7713395279044266e-05, 22580.0: 5.7713395279044266e-05, 31450.0: 5.7713395279044266e-05, 55900.0: 5.7713395279044266e-05, 15470.0: 5.7713395279044266e-05, 10090.0: 5.7713395279044266e-05, 69900.0: 5.7713395279044266e-05, 19444.0: 5.7713395279044266e-05, 31400.0: 5.7713395279044266e-05, 9577.0: 5.7713395279044266e-05, 34490.0: 5.7713395279044266e-05, 12970.0: 5.7713395279044266e-05, 7460.0: 5.7713395279044266e-05, 29980.0: 5.7713395279044266e-05, 10495.0: 5.7713395279044266e-05, 41800.0: 5.7713395279044266e-05, 46999.0: 5.7713395279044266e-05, 89900.0: 5.7713395279044266e-05, 5997.0: 5.7713395279044266e-05, 11780.0: 5.7713395279044266e-05, 40850.0: 5.7713395279044266e-05, 12860.0: 5.7713395279044266e-05, 46990.0: 5.7713395279044266e-05, 25590.0: 5.7713395279044266e-05, 4545.0: 5.7713395279044266e-05, 27600.0: 5.7713395279044266e-05, 4004.0: 5.7713395279044266e-05, 21444.0: 5.7713395279044266e-05, 119500.0: 5.7713395279044266e-05, 11555.0: 5.7713395279044266e-05, 13790.0: 5.7713395279044266e-05, 19690.0: 5.7713395279044266e-05, 7050.0: 5.7713395279044266e-05, 10390.0: 5.7713395279044266e-05, 35950.0: 5.7713395279044266e-05, 93911.0: 5.7713395279044266e-05, 6170.0: 5.7713395279044266e-05, 14230.0: 5.7713395279044266e-05, 5849.0: 5.7713395279044266e-05, 20399.0: 5.7713395279044266e-05, 10488.0: 5.7713395279044266e-05, 21995.0: 5.7713395279044266e-05, 24150.0: 5.7713395279044266e-05, 12777.0: 5.7713395279044266e-05, 22499.0: 5.7713395279044266e-05, 35460.0: 5.7713395279044266e-05, 4180.0: 5.7713395279044266e-05, 36850.0: 5.7713395279044266e-05, 6889.0: 5.7713395279044266e-05, 4349.0: 5.7713395279044266e-05, 47800.0: 5.7713395279044266e-05, 65000.0: 5.7713395279044266e-05, 4320.0: 5.7713395279044266e-05, 4860.0: 5.7713395279044266e-05, 16375.0: 5.7713395279044266e-05, 10230.0: 5.7713395279044266e-05, 9203.0: 5.7713395279044266e-05, 44990.0: 5.7713395279044266e-05, 9480.0: 5.7713395279044266e-05, 85000.0: 5.7713395279044266e-05, 38850.0: 5.7713395279044266e-05, 34750.0: 5.7713395279044266e-05, 13780.0: 5.7713395279044266e-05, 7295.0: 5.7713395279044266e-05, 75900.0: 5.7713395279044266e-05, 4123.0: 5.7713395279044266e-05, 9195.0: 5.7713395279044266e-05, 33980.0: 5.7713395279044266e-05, 163500.0: 5.7713395279044266e-05, 36800.0: 5.7713395279044266e-05, 19970.0: 5.7713395279044266e-05, 8980.0: 5.7713395279044266e-05, 34650.0: 5.7713395279044266e-05, 28400.0: 5.7713395279044266e-05, 29450.0: 5.7713395279044266e-05, 3989.0: 5.7713395279044266e-05, 12898.0: 5.7713395279044266e-05, 9149.0: 5.7713395279044266e-05, 44444.0: 5.7713395279044266e-05, 4855.0: 5.7713395279044266e-05, 32490.0: 5.7713395279044266e-05, 44777.0: 5.7713395279044266e-05, 15290.0: 5.7713395279044266e-05, 10995.0: 5.7713395279044266e-05, 5749.0: 5.7713395279044266e-05, 29550.0: 5.7713395279044266e-05, 11270.0: 5.7713395279044266e-05, 39700.0: 5.7713395279044266e-05, 20888.0: 5.7713395279044266e-05, 25450.0: 5.7713395279044266e-05, 7234.0: 5.7713395279044266e-05, 9099.0: 5.7713395279044266e-05, 46800.0: 5.7713395279044266e-05, 54990.0: 5.7713395279044266e-05, 30800.0: 5.7713395279044266e-05, 12560.0: 5.7713395279044266e-05, 4495.0: 5.7713395279044266e-05, 26600.0: 5.7713395279044266e-05, 137999.0: 5.7713395279044266e-05, 4333.0: 5.7713395279044266e-05, 17249.0: 5.7713395279044266e-05, 53500.0: 5.7713395279044266e-05, 42750.0: 5.7713395279044266e-05, 6447.0: 5.7713395279044266e-05, 68000.0: 5.7713395279044266e-05, 71000.0: 5.7713395279044266e-05, 5924.0: 5.7713395279044266e-05, 36675.0: 5.7713395279044266e-05, 6969.0: 5.7713395279044266e-05, 46911.0: 5.7713395279044266e-05, 15823.0: 5.7713395279044266e-05, 9989.0: 5.7713395279044266e-05, 48888.0: 5.7713395279044266e-05, 6998.0: 5.7713395279044266e-05, 20980.0: 5.7713395279044266e-05, 25490.0: 5.7713395279044266e-05, 12986.0: 5.7713395279044266e-05, 37400.0: 5.7713395279044266e-05, 11790.0: 5.7713395279044266e-05, 4777.0: 5.7713395279044266e-05, 28470.0: 5.7713395279044266e-05, 24444.0: 5.7713395279044266e-05, 3969.0: 5.7713395279044266e-05, 17290.0: 5.7713395279044266e-05, 4994.0: 5.7713395279044266e-05, 6039.0: 5.7713395279044266e-05, 16830.0: 5.7713395279044266e-05, 24790.0: 5.7713395279044266e-05, 128000.0: 5.7713395279044266e-05, 5888.0: 5.7713395279044266e-05, 4125.0: 5.7713395279044266e-05, 27299.0: 5.7713395279044266e-05, 3993.0: 5.7713395279044266e-05, 58900.0: 5.7713395279044266e-05, 6410.0: 5.7713395279044266e-05, 33650.0: 5.7713395279044266e-05, 16995.0: 5.7713395279044266e-05, 23989.0: 5.7713395279044266e-05, 5485.0: 5.7713395279044266e-05, 4655.0: 5.7713395279044266e-05, 83000.0: 5.7713395279044266e-05, 20911.0: 5.7713395279044266e-05, 4220.0: 5.7713395279044266e-05, 8098.0: 5.7713395279044266e-05, 22280.0: 5.7713395279044266e-05, 8720.0: 5.7713395279044266e-05, 9050.0: 5.7713395279044266e-05, 9130.0: 5.7713395279044266e-05, 10175.0: 5.7713395279044266e-05, 14790.0: 5.7713395279044266e-05, 8944.0: 5.7713395279044266e-05, 24987.0: 5.7713395279044266e-05, 5012.0: 5.7713395279044266e-05, 4279.0: 5.7713395279044266e-05, 37950.0: 5.7713395279044266e-05, 16660.0: 5.7713395279044266e-05, 220000.0: 5.7713395279044266e-05, 4740.0: 5.7713395279044266e-05, 13911.0: 5.7713395279044266e-05, 27650.0: 5.7713395279044266e-05, 6155.0: 5.7713395279044266e-05, 9280.0: 5.7713395279044266e-05, 37480.0: 5.7713395279044266e-05, 37750.0: 5.7713395279044266e-05, 14590.0: 5.7713395279044266e-05, 10690.0: 5.7713395279044266e-05, 7995.0: 5.7713395279044266e-05, 61950.0: 5.7713395279044266e-05, 6777.0: 5.7713395279044266e-05, 18399.0: 5.7713395279044266e-05, 16998.0: 5.7713395279044266e-05, 25880.0: 5.7713395279044266e-05, 9455.0: 5.7713395279044266e-05, 3957.0: 5.7713395279044266e-05, 10989.0: 5.7713395279044266e-05, 99900.0: 5.7713395279044266e-05, 11360.0: 5.7713395279044266e-05, 21275.0: 5.7713395279044266e-05, 13520.0: 5.7713395279044266e-05, 41850.0: 5.7713395279044266e-05, 25300.0: 5.7713395279044266e-05, 16845.0: 5.7713395279044266e-05, 11960.0: 5.7713395279044266e-05, 16550.0: 5.7713395279044266e-05, 18890.0: 5.7713395279044266e-05, 21959.0: 5.7713395279044266e-05, 37700.0: 5.7713395279044266e-05, 12888.0: 5.7713395279044266e-05, 8419.0: 5.7713395279044266e-05, 8555.0: 5.7713395279044266e-05, 38400.0: 5.7713395279044266e-05, 47997.0: 5.7713395279044266e-05, 51999.0: 5.7713395279044266e-05, 15480.0: 5.7713395279044266e-05, 22880.0: 5.7713395279044266e-05, 19980.0: 5.7713395279044266e-05, 38700.0: 5.7713395279044266e-05, 9725.0: 5.7713395279044266e-05, 51000.0: 5.7713395279044266e-05, 7249.0: 5.7713395279044266e-05, 33449.0: 5.7713395279044266e-05, 10888.0: 5.7713395279044266e-05, 4949.0: 5.7713395279044266e-05, 4335.0: 5.7713395279044266e-05, 23890.0: 5.7713395279044266e-05, 135000.0: 5.7713395279044266e-05, 27250.0: 5.7713395279044266e-05, 8360.0: 5.7713395279044266e-05, 11149.0: 5.7713395279044266e-05, 19480.0: 5.7713395279044266e-05, 14498.0: 5.7713395279044266e-05, 29890.0: 5.7713395279044266e-05, 115991.0: 5.7713395279044266e-05, 4680.0: 5.7713395279044266e-05, 18888.0: 5.7713395279044266e-05, 19777.0: 5.7713395279044266e-05, 20799.0: 5.7713395279044266e-05, 35980.0: 5.7713395279044266e-05, 75000.0: 5.7713395279044266e-05, 37499.0: 5.7713395279044266e-05, 35450.0: 5.7713395279044266e-05, 33600.0: 5.7713395279044266e-05, 23899.0: 5.7713395279044266e-05, 4895.0: 5.7713395279044266e-05, 8875.0: 5.7713395279044266e-05, 180000.0: 5.7713395279044266e-05, 51990.0: 5.7713395279044266e-05, 8666.0: 5.7713395279044266e-05, 5015.0: 5.7713395279044266e-05, 31111.0: 5.7713395279044266e-05, 4475.0: 5.7713395279044266e-05, 7880.0: 5.7713395279044266e-05, 12480.0: 5.7713395279044266e-05, 11299.0: 5.7713395279044266e-05, 145000.0: 5.7713395279044266e-05, 11888.0: 5.7713395279044266e-05, 6470.0: 5.7713395279044266e-05, 14525.0: 5.7713395279044266e-05, 4275.0: 5.7713395279044266e-05, 14050.0: 5.7713395279044266e-05, 5879.0: 5.7713395279044266e-05, 4755.0: 5.7713395279044266e-05, 175000.0: 5.7713395279044266e-05, 33499.0: 5.7713395279044266e-05, 22890.0: 5.7713395279044266e-05, 33200.0: 5.7713395279044266e-05, 66964.0: 5.7713395279044266e-05, 35800.0: 5.7713395279044266e-05, 38760.0: 5.7713395279044266e-05, 55999.0: 5.7713395279044266e-05, 10680.0: 5.7713395279044266e-05, 64280.0: 5.7713395279044266e-05, 17899.0: 5.7713395279044266e-05, 7420.0: 5.7713395279044266e-05, 11599.0: 5.7713395279044266e-05, 13049.0: 5.7713395279044266e-05, 16190.0: 5.7713395279044266e-05, 8240.0: 5.7713395279044266e-05, 4510.0: 5.7713395279044266e-05, 42222.0: 5.7713395279044266e-05, 8970.0: 5.7713395279044266e-05, 30200.0: 5.7713395279044266e-05, 29300.0: 5.7713395279044266e-05, 54500.0: 5.7713395279044266e-05, 104900.0: 5.7713395279044266e-05, 12599.0: 5.7713395279044266e-05, 6792.0: 5.7713395279044266e-05, 69500.0: 5.7713395279044266e-05, 12998.0: 5.7713395279044266e-05, 5489.0: 5.7713395279044266e-05, 12590.0: 5.7713395279044266e-05, 7430.0: 5.7713395279044266e-05, 7949.0: 5.7713395279044266e-05, 12580.0: 5.7713395279044266e-05, 48300.0: 5.7713395279044266e-05, 15298.0: 5.7713395279044266e-05, 10988.0: 5.7713395279044266e-05, 23123.0: 5.7713395279044266e-05, 67911.0: 5.7713395279044266e-05, 31313.0: 5.7713395279044266e-05, 25100.0: 5.7713395279044266e-05, 35990.0: 5.7713395279044266e-05, 8995.0: 5.7713395279044266e-05, 8854.0: 5.7713395279044266e-05, 7840.0: 5.7713395279044266e-05, 28290.0: 5.7713395279044266e-05, 5495.0: 5.7713395279044266e-05, 6911.0: 5.7713395279044266e-05, 20123.0: 5.7713395279044266e-05, 29250.0: 5.7713395279044266e-05, 15670.0: 5.7713395279044266e-05, 15186.0: 5.7713395279044266e-05, 10080.0: 5.7713395279044266e-05, 4286.0: 5.7713395279044266e-05, 11430.0: 5.7713395279044266e-05, 29333.0: 5.7713395279044266e-05, 31200.0: 5.7713395279044266e-05, 24480.0: 5.7713395279044266e-05, 7333.0: 5.7713395279044266e-05, 12780.0: 5.7713395279044266e-05, 116000.0: 5.7713395279044266e-05, 13362.0: 5.7713395279044266e-05, 5180.0: 5.7713395279044266e-05, 16680.0: 5.7713395279044266e-05, 28300.0: 5.7713395279044266e-05, 6530.0: 5.7713395279044266e-05, 40990.0: 5.7713395279044266e-05, 29600.0: 5.7713395279044266e-05, 73500.0: 5.7713395279044266e-05, 12995.0: 5.7713395279044266e-05, 169000.0: 5.7713395279044266e-05, 6977.0: 5.7713395279044266e-05, 6479.0: 5.7713395279044266e-05, 17989.0: 5.7713395279044266e-05, 23300.0: 5.7713395279044266e-05, 7825.0: 5.7713395279044266e-05, 19100.0: 5.7713395279044266e-05, 4398.0: 5.7713395279044266e-05, 63000.0: 5.7713395279044266e-05, 16666.0: 5.7713395279044266e-05, 23350.0: 5.7713395279044266e-05, 42000.0: 5.7713395279044266e-05, 6879.0: 5.7713395279044266e-05, 58700.0: 5.7713395279044266e-05, 70000.0: 5.7713395279044266e-05, 56800.0: 5.7713395279044266e-05, 41999.0: 5.7713395279044266e-05, 50000.0: 5.7713395279044266e-05, 89000.0: 5.7713395279044266e-05, 45800.0: 5.7713395279044266e-05, 17799.0: 5.7713395279044266e-05, 8449.0: 5.7713395279044266e-05, 5475.0: 5.7713395279044266e-05, 5120.0: 5.7713395279044266e-05, 18940.0: 5.7713395279044266e-05, 12799.0: 5.7713395279044266e-05, 129000.0: 5.7713395279044266e-05, 20985.0: 5.7713395279044266e-05, 33777.0: 5.7713395279044266e-05, 39000.0: 5.7713395279044266e-05, 4222.0: 5.7713395279044266e-05, 15099.0: 5.7713395279044266e-05, 39911.0: 5.7713395279044266e-05, 79933.0: 5.7713395279044266e-05, 13888.0: 5.7713395279044266e-05, 8099.0: 5.7713395279044266e-05, 12550.0: 5.7713395279044266e-05, 4280.0: 5.7713395279044266e-05, 31600.0: 5.7713395279044266e-05, 21049.0: 5.7713395279044266e-05, 13387.0: 5.7713395279044266e-05, 75997.0: 5.7713395279044266e-05, 151990.0: 5.7713395279044266e-05, 21700.0: 5.7713395279044266e-05, 8798.0: 5.7713395279044266e-05, 10009.0: 5.7713395279044266e-05, 48700.0: 5.7713395279044266e-05, 7820.0: 5.7713395279044266e-05, 13290.0: 5.7713395279044266e-05, 12395.0: 5.7713395279044266e-05, 7449.0: 5.7713395279044266e-05, 22899.0: 5.7713395279044266e-05, 26150.0: 5.7713395279044266e-05, 4111.0: 5.7713395279044266e-05, 35911.0: 5.7713395279044266e-05, 14899.0: 5.7713395279044266e-05, 18977.0: 5.7713395279044266e-05, 11448.0: 5.7713395279044266e-05, 33850.0: 5.7713395279044266e-05, 39979.0: 5.7713395279044266e-05, 3970.0: 5.7713395279044266e-05, 4485.0: 5.7713395279044266e-05, 5380.0: 5.7713395279044266e-05, 20987.0: 5.7713395279044266e-05})"
      ]
     },
     "execution_count": 98,
     "metadata": {},
     "output_type": "execute_result"
    }
   ],
   "source": [
    "# Used thinkstats2 module\n",
    "thinkstats2.Pmf(df_highprice)"
   ]
  },
  {
   "cell_type": "markdown",
   "metadata": {},
   "source": [
    "### Cumulative Distribution Function (CDF)"
   ]
  },
  {
   "cell_type": "markdown",
   "metadata": {},
   "source": [
    "`Using **kilometer** variable`"
   ]
  },
  {
   "cell_type": "code",
   "execution_count": 99,
   "metadata": {
    "ExecuteTime": {
     "end_time": "2021-08-13T21:09:12.280845Z",
     "start_time": "2021-08-13T21:09:12.029243Z"
    }
   },
   "outputs": [
    {
     "name": "stderr",
     "output_type": "stream",
     "text": [
      "No handles with labels found to put in legend.\n"
     ]
    },
    {
     "data": {
      "image/png": "[encoded data removed]",
      "text/plain": [
       "<Figure size 432x288 with 1 Axes>"
      ]
     },
     "metadata": {
      "needs_background": "light"
     },
     "output_type": "display_data"
    },
    {
     "data": {
      "text/plain": [
       "<Figure size 576x432 with 0 Axes>"
      ]
     },
     "metadata": {},
     "output_type": "display_data"
    }
   ],
   "source": [
    "cdf = thinkstats2.Cdf(autos.odometer_km)\n",
    "thinkplot.Cdf(cdf)\n",
    "thinkplot.Show(xlabel='Kilometer Reading', ylabel='CDF')"
   ]
  },
  {
   "cell_type": "markdown",
   "metadata": {},
   "source": [
    "Observation - \n",
    "\n",
    "- approx 25% cars have reading under 100000 km, and about 30% cars under 120000 kilometer. \n",
    "\n",
    "- Common values appear vertical sections of the CDF; there are fewer values below 100000 kilometer, so the CDF in this range is flatter."
   ]
  },
  {
   "cell_type": "markdown",
   "metadata": {},
   "source": [
    "### Analytical Distribution"
   ]
  },
  {
   "cell_type": "markdown",
   "metadata": {},
   "source": [
    "_ `Normal probability plot` for car price. \n",
    "\n",
    "It plots a model (Red line) and data (Blue Line)."
   ]
  },
  {
   "cell_type": "code",
   "execution_count": 102,
   "metadata": {
    "ExecuteTime": {
     "end_time": "2021-08-13T21:09:29.178063Z",
     "start_time": "2021-08-13T21:09:29.173684Z"
    }
   },
   "outputs": [],
   "source": [
    "def MakeNormalPlot(weights):\n",
    "    mean = weights.mean()\n",
    "    std = weights.std()\n",
    "    xs = -2, 2\n",
    "    fxs, fys = thinkstats2.FitLine(xs, inter=mean, slope=std)\n",
    "    thinkplot.Plot(fxs, fys, color='red', label='model')\n",
    "    xs,ys = thinkstats2.NormalProbability(weights)\n",
    "    thinkplot.Plot(xs,ys, label='Model')"
   ]
  },
  {
   "cell_type": "code",
   "execution_count": 103,
   "metadata": {
    "ExecuteTime": {
     "end_time": "2021-08-13T21:09:31.850936Z",
     "start_time": "2021-08-13T21:09:31.583622Z"
    }
   },
   "outputs": [
    {
     "data": {
      "image/png": "[encoded data removed]",
      "text/plain": [
       "<Figure size 432x288 with 1 Axes>"
      ]
     },
     "metadata": {
      "needs_background": "light"
     },
     "output_type": "display_data"
    }
   ],
   "source": [
    "MakeNormalPlot(autos.price)"
   ]
  },
  {
   "cell_type": "markdown",
   "metadata": {},
   "source": [
    "Observation  - As mean deviates at the ends suggesting that the expensive cars are more expensive than predicted"
   ]
  },
  {
   "cell_type": "markdown",
   "metadata": {},
   "source": [
    "### Scatter Plots"
   ]
  },
  {
   "cell_type": "markdown",
   "metadata": {},
   "source": [
    "#### car price vs the power of the car in PS. \n",
    "\n",
    "Excluding low powerPS values"
   ]
  },
  {
   "cell_type": "code",
   "execution_count": 112,
   "metadata": {
    "ExecuteTime": {
     "end_time": "2021-08-13T21:19:34.781274Z",
     "start_time": "2021-08-13T21:19:34.507360Z"
    }
   },
   "outputs": [
    {
     "name": "stderr",
     "output_type": "stream",
     "text": [
      "No handles with labels found to put in legend.\n"
     ]
    },
    {
     "data": {
      "image/png": "[encoded data removed]",
      "text/plain": [
       "<Figure size 432x288 with 1 Axes>"
      ]
     },
     "metadata": {
      "needs_background": "light"
     },
     "output_type": "display_data"
    },
    {
     "data": {
      "text/plain": [
       "<Figure size 576x432 with 0 Axes>"
      ]
     },
     "metadata": {},
     "output_type": "display_data"
    }
   ],
   "source": [
    "thinkplot.Scatter(autos.power_ps[autos['power_ps'] >= 600], autos.price[autos['power_ps'] >= 600])\n",
    "thinkplot.Show(xlabel='powerPS', ylabel='Car Price')"
   ]
  },
  {
   "cell_type": "code",
   "execution_count": 113,
   "metadata": {
    "ExecuteTime": {
     "end_time": "2021-08-13T21:19:43.776789Z",
     "start_time": "2021-08-13T21:19:43.769841Z"
    }
   },
   "outputs": [
    {
     "data": {
      "text/plain": [
       "(-0.15866469060610056, 0.4110326007994013)"
      ]
     },
     "execution_count": 113,
     "metadata": {},
     "output_type": "execute_result"
    }
   ],
   "source": [
    "# Pearson coeficient\n",
    "pearsonr(autos.power_ps[autos['power_ps'] >= 600], autos.price[autos['power_ps'] >=600])"
   ]
  },
  {
   "cell_type": "markdown",
   "metadata": {},
   "source": [
    "- powerPS and Car price have positive but weak correlation."
   ]
  },
  {
   "cell_type": "markdown",
   "metadata": {},
   "source": [
    "####  Age and price\n",
    "\n",
    "Excluded newer cars since their price is expected to be higher."
   ]
  },
  {
   "cell_type": "code",
   "execution_count": 106,
   "metadata": {
    "ExecuteTime": {
     "end_time": "2021-08-13T21:09:40.975736Z",
     "start_time": "2021-08-13T21:09:40.073509Z"
    },
    "scrolled": true
   },
   "outputs": [
    {
     "name": "stderr",
     "output_type": "stream",
     "text": [
      "No handles with labels found to put in legend.\n"
     ]
    },
    {
     "data": {
      "image/png": "[encoded data removed]",
      "text/plain": [
       "<Figure size 432x288 with 1 Axes>"
      ]
     },
     "metadata": {
      "needs_background": "light"
     },
     "output_type": "display_data"
    },
    {
     "data": {
      "text/plain": [
       "<Figure size 576x432 with 0 Axes>"
      ]
     },
     "metadata": {},
     "output_type": "display_data"
    }
   ],
   "source": [
    "thinkplot.Scatter(autos.registration_year[autos['registration_year'] >= 6], autos.price[autos['registration_year'] >= 6])\n",
    "thinkplot.Show(xlabel='Years Old', ylabel='Car Price')"
   ]
  },
  {
   "cell_type": "code",
   "execution_count": 107,
   "metadata": {
    "ExecuteTime": {
     "end_time": "2021-08-13T21:09:41.800786Z",
     "start_time": "2021-08-13T21:09:41.793536Z"
    }
   },
   "outputs": [
    {
     "data": {
      "text/plain": [
       "(0.3989210353167433, 0.0)"
      ]
     },
     "execution_count": 107,
     "metadata": {},
     "output_type": "execute_result"
    }
   ],
   "source": [
    "# Pearson coeficient\n",
    "pearsonr(autos.registration_year[autos['registration_year'] >= 6], autos.price[autos['registration_year'] >= 6])"
   ]
  },
  {
   "cell_type": "markdown",
   "metadata": {},
   "source": [
    "\n",
    "- Age is one of the factors that causes the price to change. \n",
    "\n",
    "- Presence of few outliers for cars older than 35 years with high price range."
   ]
  },
  {
   "cell_type": "markdown",
   "metadata": {},
   "source": [
    "### Hypothesis Testing"
   ]
  },
  {
   "cell_type": "markdown",
   "metadata": {},
   "source": [
    "Test correlation."
   ]
  },
  {
   "cell_type": "code",
   "execution_count": 108,
   "metadata": {
    "ExecuteTime": {
     "end_time": "2021-08-13T21:09:45.253646Z",
     "start_time": "2021-08-13T21:09:45.249345Z"
    }
   },
   "outputs": [],
   "source": [
    "class CorrelationPermute(thinkstats2.HypothesisTest):\n",
    "\n",
    "    def TestStatistic(self, data):\n",
    "        xs, ys = data\n",
    "        test_stat = abs(thinkstats2.Corr(xs, ys))\n",
    "        return test_stat\n",
    "\n",
    "    def RunModel(self):\n",
    "        xs, ys = self.data\n",
    "        xs = np.random.permutation(xs)\n",
    "        return xs, ys"
   ]
  },
  {
   "cell_type": "code",
   "execution_count": 109,
   "metadata": {
    "ExecuteTime": {
     "end_time": "2021-08-13T21:09:46.857613Z",
     "start_time": "2021-08-13T21:09:45.980532Z"
    }
   },
   "outputs": [
    {
     "data": {
      "text/plain": [
       "0.0"
      ]
     },
     "execution_count": 109,
     "metadata": {},
     "output_type": "execute_result"
    }
   ],
   "source": [
    "# Section data the two columns that we want to test\n",
    "data = autos.price.values, autos.odometer_km.values\n",
    "\n",
    "ht = CorrelationPermute(data)\n",
    "ht.PValue()"
   ]
  },
  {
   "cell_type": "markdown",
   "metadata": {},
   "source": [
    "_p-value_ `0` indicates a failure to reject the null hypothesis at the 5% significance level (p,0.05)."
   ]
  },
  {
   "cell_type": "markdown",
   "metadata": {},
   "source": [
    "###  Regression Analysis"
   ]
  },
  {
   "cell_type": "markdown",
   "metadata": {},
   "source": [
    " Regression Analysis of one dependent and multiple explanatory variables."
   ]
  },
  {
   "cell_type": "code",
   "execution_count": 110,
   "metadata": {
    "ExecuteTime": {
     "end_time": "2021-08-13T21:09:49.920773Z",
     "start_time": "2021-08-13T21:09:49.879665Z"
    }
   },
   "outputs": [
    {
     "data": {
      "text/plain": [
       "LinearRegression(copy_X=True, fit_intercept=True, n_jobs=None, normalize=False)"
      ]
     },
     "execution_count": 110,
     "metadata": {},
     "output_type": "execute_result"
    }
   ],
   "source": [
    "y = autos['price'] #value we are predicting - dependent variable\n",
    "x = autos[['odometer_km', 'power_ps', 'registration_year']] #explanatory variables - Independent variables\n",
    "\n",
    "X_train, X_test, y_train, y_test = train_test_split(x,y,test_size=0.30, random_state=10101) \n",
    "#split the data 70/30\n",
    "\n",
    "model = LinearRegression()\n",
    "model.fit(X_train,y_train)"
   ]
  },
  {
   "cell_type": "code",
   "execution_count": 111,
   "metadata": {
    "ExecuteTime": {
     "end_time": "2021-08-13T21:09:51.447289Z",
     "start_time": "2021-08-13T21:09:51.440645Z"
    }
   },
   "outputs": [
    {
     "data": {
      "text/html": [
       "<div>\n",
       "<style scoped>\n",
       "    .dataframe tbody tr th:only-of-type {\n",
       "        vertical-align: middle;\n",
       "    }\n",
       "\n",
       "    .dataframe tbody tr th {\n",
       "        vertical-align: top;\n",
       "    }\n",
       "\n",
       "    .dataframe thead th {\n",
       "        text-align: right;\n",
       "    }\n",
       "</style>\n",
       "<table border=\"1\" class=\"dataframe\">\n",
       "  <thead>\n",
       "    <tr style=\"text-align: right;\">\n",
       "      <th></th>\n",
       "      <th>coefficient</th>\n",
       "    </tr>\n",
       "  </thead>\n",
       "  <tbody>\n",
       "    <tr>\n",
       "      <td>odometer_km</td>\n",
       "      <td>-0.076433</td>\n",
       "    </tr>\n",
       "    <tr>\n",
       "      <td>power_ps</td>\n",
       "      <td>26.126443</td>\n",
       "    </tr>\n",
       "    <tr>\n",
       "      <td>registration_year</td>\n",
       "      <td>344.117862</td>\n",
       "    </tr>\n",
       "  </tbody>\n",
       "</table>\n",
       "</div>"
      ],
      "text/plain": [
       "                   coefficient\n",
       "odometer_km          -0.076433\n",
       "power_ps             26.126443\n",
       "registration_year   344.117862"
      ]
     },
     "execution_count": 111,
     "metadata": {},
     "output_type": "execute_result"
    }
   ],
   "source": [
    "coeff_df = pd.DataFrame(model.coef_, x.columns, columns=['coefficient'])  \n",
    "coeff_df "
   ]
  },
  {
   "cell_type": "markdown",
   "metadata": {},
   "source": [
    "As far as defination of _regression coefficient_ concerned - it is the constant that represents the rate of change of dependent variable (price) as a function of changes in the independent variables (kilometer, powerPS, yearsOld, NoOfDaysOnline)"
   ]
  },
  {
   "cell_type": "code",
   "execution_count": null,
   "metadata": {},
   "outputs": [],
   "source": []
  }
 ],
 "metadata": {
  "anaconda-cloud": {},
  "kernelspec": {
   "display_name": "Python 3",
   "language": "python",
   "name": "python3"
  },
  "language_info": {
   "codemirror_mode": {
    "name": "ipython",
    "version": 3
   },
   "file_extension": ".py",
   "mimetype": "text/x-python",
   "name": "python",
   "nbconvert_exporter": "python",
   "pygments_lexer": "ipython3",
   "version": "3.7.4"
  }
 },
 "nbformat": 4,
 "nbformat_minor": 1
}
